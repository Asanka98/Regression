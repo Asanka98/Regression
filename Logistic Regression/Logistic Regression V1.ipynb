{
 "cells": [
  {
   "cell_type": "code",
   "execution_count": 105,
   "metadata": {},
   "outputs": [],
   "source": [
    "import pandas as pd\n",
    "import numpy as np\n",
    "import matplotlib.pyplot as plt\n",
    "import math, copy\n",
    "import seaborn as sns\n",
    "from sklearn.metrics import confusion_matrix\n",
    "from scipy import stats\n",
    "import numpy as np\n",
    "from sklearn.impute import SimpleImputer\n",
    "from sklearn.preprocessing import MinMaxScaler,LabelEncoder\n",
    "from sklearn.feature_selection import SelectKBest,chi2\n",
    "from sklearn.model_selection import train_test_split\n",
    "from sklearn.metrics import accuracy_score,confusion_matrix,classification_report\n",
    "from sklearn.model_selection import GridSearchCV,cross_val_score\n",
    "import warnings\n",
    "warnings.filterwarnings('ignore')\n"
   ]
  },
  {
   "cell_type": "code",
   "execution_count": 106,
   "metadata": {},
   "outputs": [],
   "source": [
    "df = pd.read_csv(\"../data/vehicle loand dataset.csv\", header=0)"
   ]
  },
  {
   "cell_type": "code",
   "execution_count": 107,
   "metadata": {},
   "outputs": [
    {
     "data": {
      "text/html": [
       "<div>\n",
       "<style scoped>\n",
       "    .dataframe tbody tr th:only-of-type {\n",
       "        vertical-align: middle;\n",
       "    }\n",
       "\n",
       "    .dataframe tbody tr th {\n",
       "        vertical-align: top;\n",
       "    }\n",
       "\n",
       "    .dataframe thead th {\n",
       "        text-align: right;\n",
       "    }\n",
       "</style>\n",
       "<table border=\"1\" class=\"dataframe\">\n",
       "  <thead>\n",
       "    <tr style=\"text-align: right;\">\n",
       "      <th></th>\n",
       "      <th>ID</th>\n",
       "      <th>Client_Income</th>\n",
       "      <th>Car_Owned</th>\n",
       "      <th>Bike_Owned</th>\n",
       "      <th>Active_Loan</th>\n",
       "      <th>House_Own</th>\n",
       "      <th>Child_Count</th>\n",
       "      <th>Credit_Amount</th>\n",
       "      <th>Loan_Annuity</th>\n",
       "      <th>Accompany_Client</th>\n",
       "      <th>...</th>\n",
       "      <th>Client_Permanent_Match_Tag</th>\n",
       "      <th>Client_Contact_Work_Tag</th>\n",
       "      <th>Type_Organization</th>\n",
       "      <th>Score_Source_1</th>\n",
       "      <th>Score_Source_2</th>\n",
       "      <th>Score_Source_3</th>\n",
       "      <th>Social_Circle_Default</th>\n",
       "      <th>Phone_Change</th>\n",
       "      <th>Credit_Bureau</th>\n",
       "      <th>Default</th>\n",
       "    </tr>\n",
       "  </thead>\n",
       "  <tbody>\n",
       "    <tr>\n",
       "      <th>0</th>\n",
       "      <td>12142509</td>\n",
       "      <td>6750</td>\n",
       "      <td>0.0</td>\n",
       "      <td>0.0</td>\n",
       "      <td>1.0</td>\n",
       "      <td>0.0</td>\n",
       "      <td>0.0</td>\n",
       "      <td>61190.55</td>\n",
       "      <td>3416.85</td>\n",
       "      <td>Alone</td>\n",
       "      <td>...</td>\n",
       "      <td>Yes</td>\n",
       "      <td>Yes</td>\n",
       "      <td>Self-employed</td>\n",
       "      <td>0.568066</td>\n",
       "      <td>0.478787</td>\n",
       "      <td>NaN</td>\n",
       "      <td>0.0186</td>\n",
       "      <td>63.0</td>\n",
       "      <td>NaN</td>\n",
       "      <td>0</td>\n",
       "    </tr>\n",
       "    <tr>\n",
       "      <th>1</th>\n",
       "      <td>12138936</td>\n",
       "      <td>20250</td>\n",
       "      <td>1.0</td>\n",
       "      <td>0.0</td>\n",
       "      <td>1.0</td>\n",
       "      <td>NaN</td>\n",
       "      <td>0.0</td>\n",
       "      <td>15282</td>\n",
       "      <td>1826.55</td>\n",
       "      <td>Alone</td>\n",
       "      <td>...</td>\n",
       "      <td>Yes</td>\n",
       "      <td>Yes</td>\n",
       "      <td>Government</td>\n",
       "      <td>0.563360</td>\n",
       "      <td>0.215068</td>\n",
       "      <td>NaN</td>\n",
       "      <td>NaN</td>\n",
       "      <td>NaN</td>\n",
       "      <td>NaN</td>\n",
       "      <td>0</td>\n",
       "    </tr>\n",
       "    <tr>\n",
       "      <th>2</th>\n",
       "      <td>12181264</td>\n",
       "      <td>18000</td>\n",
       "      <td>0.0</td>\n",
       "      <td>0.0</td>\n",
       "      <td>1.0</td>\n",
       "      <td>0.0</td>\n",
       "      <td>1.0</td>\n",
       "      <td>59527.35</td>\n",
       "      <td>2788.2</td>\n",
       "      <td>Alone</td>\n",
       "      <td>...</td>\n",
       "      <td>Yes</td>\n",
       "      <td>Yes</td>\n",
       "      <td>Self-employed</td>\n",
       "      <td>NaN</td>\n",
       "      <td>0.552795</td>\n",
       "      <td>0.329655</td>\n",
       "      <td>0.0742</td>\n",
       "      <td>277.0</td>\n",
       "      <td>0.0</td>\n",
       "      <td>0</td>\n",
       "    </tr>\n",
       "    <tr>\n",
       "      <th>3</th>\n",
       "      <td>12188929</td>\n",
       "      <td>15750</td>\n",
       "      <td>0.0</td>\n",
       "      <td>0.0</td>\n",
       "      <td>1.0</td>\n",
       "      <td>1.0</td>\n",
       "      <td>0.0</td>\n",
       "      <td>53870.4</td>\n",
       "      <td>2295.45</td>\n",
       "      <td>Alone</td>\n",
       "      <td>...</td>\n",
       "      <td>Yes</td>\n",
       "      <td>Yes</td>\n",
       "      <td>XNA</td>\n",
       "      <td>NaN</td>\n",
       "      <td>0.135182</td>\n",
       "      <td>0.631355</td>\n",
       "      <td>NaN</td>\n",
       "      <td>1700.0</td>\n",
       "      <td>3.0</td>\n",
       "      <td>0</td>\n",
       "    </tr>\n",
       "    <tr>\n",
       "      <th>4</th>\n",
       "      <td>12133385</td>\n",
       "      <td>33750</td>\n",
       "      <td>1.0</td>\n",
       "      <td>0.0</td>\n",
       "      <td>1.0</td>\n",
       "      <td>0.0</td>\n",
       "      <td>2.0</td>\n",
       "      <td>133988.4</td>\n",
       "      <td>3547.35</td>\n",
       "      <td>Alone</td>\n",
       "      <td>...</td>\n",
       "      <td>Yes</td>\n",
       "      <td>Yes</td>\n",
       "      <td>Business Entity Type 3</td>\n",
       "      <td>0.508199</td>\n",
       "      <td>0.301182</td>\n",
       "      <td>0.355639</td>\n",
       "      <td>0.2021</td>\n",
       "      <td>674.0</td>\n",
       "      <td>1.0</td>\n",
       "      <td>0</td>\n",
       "    </tr>\n",
       "  </tbody>\n",
       "</table>\n",
       "<p>5 rows × 40 columns</p>\n",
       "</div>"
      ],
      "text/plain": [
       "         ID Client_Income  Car_Owned  Bike_Owned  Active_Loan  House_Own  \\\n",
       "0  12142509          6750        0.0         0.0          1.0        0.0   \n",
       "1  12138936         20250        1.0         0.0          1.0        NaN   \n",
       "2  12181264         18000        0.0         0.0          1.0        0.0   \n",
       "3  12188929         15750        0.0         0.0          1.0        1.0   \n",
       "4  12133385         33750        1.0         0.0          1.0        0.0   \n",
       "\n",
       "   Child_Count Credit_Amount Loan_Annuity Accompany_Client  ...  \\\n",
       "0          0.0      61190.55      3416.85            Alone  ...   \n",
       "1          0.0         15282      1826.55            Alone  ...   \n",
       "2          1.0      59527.35       2788.2            Alone  ...   \n",
       "3          0.0       53870.4      2295.45            Alone  ...   \n",
       "4          2.0      133988.4      3547.35            Alone  ...   \n",
       "\n",
       "  Client_Permanent_Match_Tag Client_Contact_Work_Tag       Type_Organization  \\\n",
       "0                        Yes                     Yes           Self-employed   \n",
       "1                        Yes                     Yes              Government   \n",
       "2                        Yes                     Yes           Self-employed   \n",
       "3                        Yes                     Yes                     XNA   \n",
       "4                        Yes                     Yes  Business Entity Type 3   \n",
       "\n",
       "  Score_Source_1 Score_Source_2 Score_Source_3 Social_Circle_Default  \\\n",
       "0       0.568066       0.478787            NaN                0.0186   \n",
       "1       0.563360       0.215068            NaN                   NaN   \n",
       "2            NaN       0.552795       0.329655                0.0742   \n",
       "3            NaN       0.135182       0.631355                   NaN   \n",
       "4       0.508199       0.301182       0.355639                0.2021   \n",
       "\n",
       "  Phone_Change Credit_Bureau Default  \n",
       "0         63.0           NaN       0  \n",
       "1          NaN           NaN       0  \n",
       "2        277.0           0.0       0  \n",
       "3       1700.0           3.0       0  \n",
       "4        674.0           1.0       0  \n",
       "\n",
       "[5 rows x 40 columns]"
      ]
     },
     "execution_count": 107,
     "metadata": {},
     "output_type": "execute_result"
    }
   ],
   "source": [
    "df.head(5)"
   ]
  },
  {
   "cell_type": "code",
   "execution_count": 108,
   "metadata": {},
   "outputs": [
    {
     "data": {
      "text/plain": [
       "(121856, 40)"
      ]
     },
     "execution_count": 108,
     "metadata": {},
     "output_type": "execute_result"
    }
   ],
   "source": [
    "df.shape"
   ]
  },
  {
   "cell_type": "code",
   "execution_count": 109,
   "metadata": {},
   "outputs": [
    {
     "data": {
      "text/html": [
       "<div>\n",
       "<style scoped>\n",
       "    .dataframe tbody tr th:only-of-type {\n",
       "        vertical-align: middle;\n",
       "    }\n",
       "\n",
       "    .dataframe tbody tr th {\n",
       "        vertical-align: top;\n",
       "    }\n",
       "\n",
       "    .dataframe thead th {\n",
       "        text-align: right;\n",
       "    }\n",
       "</style>\n",
       "<table border=\"1\" class=\"dataframe\">\n",
       "  <thead>\n",
       "    <tr style=\"text-align: right;\">\n",
       "      <th></th>\n",
       "      <th>ID</th>\n",
       "      <th>Car_Owned</th>\n",
       "      <th>Bike_Owned</th>\n",
       "      <th>Active_Loan</th>\n",
       "      <th>House_Own</th>\n",
       "      <th>Child_Count</th>\n",
       "      <th>Own_House_Age</th>\n",
       "      <th>Mobile_Tag</th>\n",
       "      <th>Homephone_Tag</th>\n",
       "      <th>Workphone_Working</th>\n",
       "      <th>Client_Family_Members</th>\n",
       "      <th>Cleint_City_Rating</th>\n",
       "      <th>Application_Process_Day</th>\n",
       "      <th>Application_Process_Hour</th>\n",
       "      <th>Score_Source_1</th>\n",
       "      <th>Score_Source_2</th>\n",
       "      <th>Social_Circle_Default</th>\n",
       "      <th>Phone_Change</th>\n",
       "      <th>Credit_Bureau</th>\n",
       "      <th>Default</th>\n",
       "    </tr>\n",
       "  </thead>\n",
       "  <tbody>\n",
       "    <tr>\n",
       "      <th>count</th>\n",
       "      <td>1.218560e+05</td>\n",
       "      <td>118275.000000</td>\n",
       "      <td>118232.000000</td>\n",
       "      <td>118221.000000</td>\n",
       "      <td>118195.000000</td>\n",
       "      <td>118218.000000</td>\n",
       "      <td>41761.000000</td>\n",
       "      <td>121856.000000</td>\n",
       "      <td>121856.000000</td>\n",
       "      <td>121856.000000</td>\n",
       "      <td>119446.000000</td>\n",
       "      <td>119447.000000</td>\n",
       "      <td>119428.000000</td>\n",
       "      <td>118193.000000</td>\n",
       "      <td>53021.000000</td>\n",
       "      <td>116170.000000</td>\n",
       "      <td>59928.000000</td>\n",
       "      <td>118192.000000</td>\n",
       "      <td>103316.000000</td>\n",
       "      <td>121856.000000</td>\n",
       "    </tr>\n",
       "    <tr>\n",
       "      <th>mean</th>\n",
       "      <td>1.216093e+07</td>\n",
       "      <td>0.342854</td>\n",
       "      <td>0.332262</td>\n",
       "      <td>0.499175</td>\n",
       "      <td>0.692060</td>\n",
       "      <td>0.417779</td>\n",
       "      <td>12.157324</td>\n",
       "      <td>0.999992</td>\n",
       "      <td>0.200499</td>\n",
       "      <td>0.281201</td>\n",
       "      <td>2.154329</td>\n",
       "      <td>2.030038</td>\n",
       "      <td>3.159736</td>\n",
       "      <td>12.063100</td>\n",
       "      <td>0.501213</td>\n",
       "      <td>0.518625</td>\n",
       "      <td>0.117428</td>\n",
       "      <td>962.106056</td>\n",
       "      <td>1.891082</td>\n",
       "      <td>0.080792</td>\n",
       "    </tr>\n",
       "    <tr>\n",
       "      <th>std</th>\n",
       "      <td>3.517694e+04</td>\n",
       "      <td>0.474665</td>\n",
       "      <td>0.471026</td>\n",
       "      <td>0.500001</td>\n",
       "      <td>0.461644</td>\n",
       "      <td>0.728802</td>\n",
       "      <td>12.056079</td>\n",
       "      <td>0.002865</td>\n",
       "      <td>0.400375</td>\n",
       "      <td>0.449587</td>\n",
       "      <td>0.912686</td>\n",
       "      <td>0.504407</td>\n",
       "      <td>1.759045</td>\n",
       "      <td>3.280695</td>\n",
       "      <td>0.211204</td>\n",
       "      <td>0.740248</td>\n",
       "      <td>0.107974</td>\n",
       "      <td>827.976726</td>\n",
       "      <td>1.861921</td>\n",
       "      <td>0.272517</td>\n",
       "    </tr>\n",
       "    <tr>\n",
       "      <th>min</th>\n",
       "      <td>1.210000e+07</td>\n",
       "      <td>0.000000</td>\n",
       "      <td>0.000000</td>\n",
       "      <td>0.000000</td>\n",
       "      <td>0.000000</td>\n",
       "      <td>0.000000</td>\n",
       "      <td>0.000000</td>\n",
       "      <td>0.000000</td>\n",
       "      <td>0.000000</td>\n",
       "      <td>0.000000</td>\n",
       "      <td>1.000000</td>\n",
       "      <td>1.000000</td>\n",
       "      <td>0.000000</td>\n",
       "      <td>0.000000</td>\n",
       "      <td>0.014568</td>\n",
       "      <td>0.000005</td>\n",
       "      <td>0.000000</td>\n",
       "      <td>0.000000</td>\n",
       "      <td>0.000000</td>\n",
       "      <td>0.000000</td>\n",
       "    </tr>\n",
       "    <tr>\n",
       "      <th>25%</th>\n",
       "      <td>1.213046e+07</td>\n",
       "      <td>0.000000</td>\n",
       "      <td>0.000000</td>\n",
       "      <td>0.000000</td>\n",
       "      <td>0.000000</td>\n",
       "      <td>0.000000</td>\n",
       "      <td>5.000000</td>\n",
       "      <td>1.000000</td>\n",
       "      <td>0.000000</td>\n",
       "      <td>0.000000</td>\n",
       "      <td>2.000000</td>\n",
       "      <td>2.000000</td>\n",
       "      <td>2.000000</td>\n",
       "      <td>10.000000</td>\n",
       "      <td>0.333481</td>\n",
       "      <td>0.390164</td>\n",
       "      <td>0.057700</td>\n",
       "      <td>272.000000</td>\n",
       "      <td>0.000000</td>\n",
       "      <td>0.000000</td>\n",
       "    </tr>\n",
       "    <tr>\n",
       "      <th>50%</th>\n",
       "      <td>1.216093e+07</td>\n",
       "      <td>0.000000</td>\n",
       "      <td>0.000000</td>\n",
       "      <td>0.000000</td>\n",
       "      <td>1.000000</td>\n",
       "      <td>0.000000</td>\n",
       "      <td>9.000000</td>\n",
       "      <td>1.000000</td>\n",
       "      <td>0.000000</td>\n",
       "      <td>0.000000</td>\n",
       "      <td>2.000000</td>\n",
       "      <td>2.000000</td>\n",
       "      <td>3.000000</td>\n",
       "      <td>12.000000</td>\n",
       "      <td>0.504657</td>\n",
       "      <td>0.564978</td>\n",
       "      <td>0.088700</td>\n",
       "      <td>755.000000</td>\n",
       "      <td>1.000000</td>\n",
       "      <td>0.000000</td>\n",
       "    </tr>\n",
       "    <tr>\n",
       "      <th>75%</th>\n",
       "      <td>1.219139e+07</td>\n",
       "      <td>1.000000</td>\n",
       "      <td>1.000000</td>\n",
       "      <td>1.000000</td>\n",
       "      <td>1.000000</td>\n",
       "      <td>1.000000</td>\n",
       "      <td>15.000000</td>\n",
       "      <td>1.000000</td>\n",
       "      <td>0.000000</td>\n",
       "      <td>1.000000</td>\n",
       "      <td>3.000000</td>\n",
       "      <td>2.000000</td>\n",
       "      <td>5.000000</td>\n",
       "      <td>14.000000</td>\n",
       "      <td>0.673890</td>\n",
       "      <td>0.664011</td>\n",
       "      <td>0.148500</td>\n",
       "      <td>1570.000000</td>\n",
       "      <td>3.000000</td>\n",
       "      <td>0.000000</td>\n",
       "    </tr>\n",
       "    <tr>\n",
       "      <th>max</th>\n",
       "      <td>1.222186e+07</td>\n",
       "      <td>1.000000</td>\n",
       "      <td>1.000000</td>\n",
       "      <td>1.000000</td>\n",
       "      <td>1.000000</td>\n",
       "      <td>19.000000</td>\n",
       "      <td>69.000000</td>\n",
       "      <td>1.000000</td>\n",
       "      <td>1.000000</td>\n",
       "      <td>1.000000</td>\n",
       "      <td>16.000000</td>\n",
       "      <td>3.000000</td>\n",
       "      <td>6.000000</td>\n",
       "      <td>23.000000</td>\n",
       "      <td>0.945741</td>\n",
       "      <td>100.000000</td>\n",
       "      <td>1.000000</td>\n",
       "      <td>4185.000000</td>\n",
       "      <td>22.000000</td>\n",
       "      <td>1.000000</td>\n",
       "    </tr>\n",
       "  </tbody>\n",
       "</table>\n",
       "</div>"
      ],
      "text/plain": [
       "                 ID      Car_Owned     Bike_Owned    Active_Loan  \\\n",
       "count  1.218560e+05  118275.000000  118232.000000  118221.000000   \n",
       "mean   1.216093e+07       0.342854       0.332262       0.499175   \n",
       "std    3.517694e+04       0.474665       0.471026       0.500001   \n",
       "min    1.210000e+07       0.000000       0.000000       0.000000   \n",
       "25%    1.213046e+07       0.000000       0.000000       0.000000   \n",
       "50%    1.216093e+07       0.000000       0.000000       0.000000   \n",
       "75%    1.219139e+07       1.000000       1.000000       1.000000   \n",
       "max    1.222186e+07       1.000000       1.000000       1.000000   \n",
       "\n",
       "           House_Own    Child_Count  Own_House_Age     Mobile_Tag  \\\n",
       "count  118195.000000  118218.000000   41761.000000  121856.000000   \n",
       "mean        0.692060       0.417779      12.157324       0.999992   \n",
       "std         0.461644       0.728802      12.056079       0.002865   \n",
       "min         0.000000       0.000000       0.000000       0.000000   \n",
       "25%         0.000000       0.000000       5.000000       1.000000   \n",
       "50%         1.000000       0.000000       9.000000       1.000000   \n",
       "75%         1.000000       1.000000      15.000000       1.000000   \n",
       "max         1.000000      19.000000      69.000000       1.000000   \n",
       "\n",
       "       Homephone_Tag  Workphone_Working  Client_Family_Members  \\\n",
       "count  121856.000000      121856.000000          119446.000000   \n",
       "mean        0.200499           0.281201               2.154329   \n",
       "std         0.400375           0.449587               0.912686   \n",
       "min         0.000000           0.000000               1.000000   \n",
       "25%         0.000000           0.000000               2.000000   \n",
       "50%         0.000000           0.000000               2.000000   \n",
       "75%         0.000000           1.000000               3.000000   \n",
       "max         1.000000           1.000000              16.000000   \n",
       "\n",
       "       Cleint_City_Rating  Application_Process_Day  Application_Process_Hour  \\\n",
       "count       119447.000000            119428.000000             118193.000000   \n",
       "mean             2.030038                 3.159736                 12.063100   \n",
       "std              0.504407                 1.759045                  3.280695   \n",
       "min              1.000000                 0.000000                  0.000000   \n",
       "25%              2.000000                 2.000000                 10.000000   \n",
       "50%              2.000000                 3.000000                 12.000000   \n",
       "75%              2.000000                 5.000000                 14.000000   \n",
       "max              3.000000                 6.000000                 23.000000   \n",
       "\n",
       "       Score_Source_1  Score_Source_2  Social_Circle_Default   Phone_Change  \\\n",
       "count    53021.000000   116170.000000           59928.000000  118192.000000   \n",
       "mean         0.501213        0.518625               0.117428     962.106056   \n",
       "std          0.211204        0.740248               0.107974     827.976726   \n",
       "min          0.014568        0.000005               0.000000       0.000000   \n",
       "25%          0.333481        0.390164               0.057700     272.000000   \n",
       "50%          0.504657        0.564978               0.088700     755.000000   \n",
       "75%          0.673890        0.664011               0.148500    1570.000000   \n",
       "max          0.945741      100.000000               1.000000    4185.000000   \n",
       "\n",
       "       Credit_Bureau        Default  \n",
       "count  103316.000000  121856.000000  \n",
       "mean        1.891082       0.080792  \n",
       "std         1.861921       0.272517  \n",
       "min         0.000000       0.000000  \n",
       "25%         0.000000       0.000000  \n",
       "50%         1.000000       0.000000  \n",
       "75%         3.000000       0.000000  \n",
       "max        22.000000       1.000000  "
      ]
     },
     "execution_count": 109,
     "metadata": {},
     "output_type": "execute_result"
    }
   ],
   "source": [
    "df.describe()"
   ]
  },
  {
   "cell_type": "code",
   "execution_count": 110,
   "metadata": {},
   "outputs": [
    {
     "name": "stdout",
     "output_type": "stream",
     "text": [
      "<class 'pandas.core.frame.DataFrame'>\n",
      "RangeIndex: 121856 entries, 0 to 121855\n",
      "Data columns (total 40 columns):\n",
      " #   Column                      Non-Null Count   Dtype  \n",
      "---  ------                      --------------   -----  \n",
      " 0   ID                          121856 non-null  int64  \n",
      " 1   Client_Income               118249 non-null  object \n",
      " 2   Car_Owned                   118275 non-null  float64\n",
      " 3   Bike_Owned                  118232 non-null  float64\n",
      " 4   Active_Loan                 118221 non-null  float64\n",
      " 5   House_Own                   118195 non-null  float64\n",
      " 6   Child_Count                 118218 non-null  float64\n",
      " 7   Credit_Amount               118224 non-null  object \n",
      " 8   Loan_Annuity                117044 non-null  object \n",
      " 9   Accompany_Client            120110 non-null  object \n",
      " 10  Client_Income_Type          118155 non-null  object \n",
      " 11  Client_Education            118211 non-null  object \n",
      " 12  Client_Marital_Status       118383 non-null  object \n",
      " 13  Client_Gender               119443 non-null  object \n",
      " 14  Loan_Contract_Type          118205 non-null  object \n",
      " 15  Client_Housing_Type         118169 non-null  object \n",
      " 16  Population_Region_Relative  116999 non-null  object \n",
      " 17  Age_Days                    118256 non-null  object \n",
      " 18  Employed_Days               118207 non-null  object \n",
      " 19  Registration_Days           118242 non-null  object \n",
      " 20  ID_Days                     115888 non-null  object \n",
      " 21  Own_House_Age               41761 non-null   float64\n",
      " 22  Mobile_Tag                  121856 non-null  int64  \n",
      " 23  Homephone_Tag               121856 non-null  int64  \n",
      " 24  Workphone_Working           121856 non-null  int64  \n",
      " 25  Client_Occupation           80421 non-null   object \n",
      " 26  Client_Family_Members       119446 non-null  float64\n",
      " 27  Cleint_City_Rating          119447 non-null  float64\n",
      " 28  Application_Process_Day     119428 non-null  float64\n",
      " 29  Application_Process_Hour    118193 non-null  float64\n",
      " 30  Client_Permanent_Match_Tag  121856 non-null  object \n",
      " 31  Client_Contact_Work_Tag     121856 non-null  object \n",
      " 32  Type_Organization           118247 non-null  object \n",
      " 33  Score_Source_1              53021 non-null   float64\n",
      " 34  Score_Source_2              116170 non-null  float64\n",
      " 35  Score_Source_3              94935 non-null   object \n",
      " 36  Social_Circle_Default       59928 non-null   float64\n",
      " 37  Phone_Change                118192 non-null  float64\n",
      " 38  Credit_Bureau               103316 non-null  float64\n",
      " 39  Default                     121856 non-null  int64  \n",
      "dtypes: float64(15), int64(5), object(20)\n",
      "memory usage: 37.2+ MB\n"
     ]
    }
   ],
   "source": [
    "df.info()"
   ]
  },
  {
   "cell_type": "code",
   "execution_count": 111,
   "metadata": {},
   "outputs": [
    {
     "data": {
      "text/plain": [
       "ID                                0\n",
       "Client_Income                  3607\n",
       "Car_Owned                      3581\n",
       "Bike_Owned                     3624\n",
       "Active_Loan                    3635\n",
       "House_Own                      3661\n",
       "Child_Count                    3638\n",
       "Credit_Amount                  3632\n",
       "Loan_Annuity                   4812\n",
       "Accompany_Client               1746\n",
       "Client_Income_Type             3701\n",
       "Client_Education               3645\n",
       "Client_Marital_Status          3473\n",
       "Client_Gender                  2413\n",
       "Loan_Contract_Type             3651\n",
       "Client_Housing_Type            3687\n",
       "Population_Region_Relative     4857\n",
       "Age_Days                       3600\n",
       "Employed_Days                  3649\n",
       "Registration_Days              3614\n",
       "ID_Days                        5968\n",
       "Own_House_Age                 80095\n",
       "Mobile_Tag                        0\n",
       "Homephone_Tag                     0\n",
       "Workphone_Working                 0\n",
       "Client_Occupation             41435\n",
       "Client_Family_Members          2410\n",
       "Cleint_City_Rating             2409\n",
       "Application_Process_Day        2428\n",
       "Application_Process_Hour       3663\n",
       "Client_Permanent_Match_Tag        0\n",
       "Client_Contact_Work_Tag           0\n",
       "Type_Organization              3609\n",
       "Score_Source_1                68835\n",
       "Score_Source_2                 5686\n",
       "Score_Source_3                26921\n",
       "Social_Circle_Default         61928\n",
       "Phone_Change                   3664\n",
       "Credit_Bureau                 18540\n",
       "Default                           0\n",
       "dtype: int64"
      ]
     },
     "execution_count": 111,
     "metadata": {},
     "output_type": "execute_result"
    }
   ],
   "source": [
    "df.isnull().sum() "
   ]
  },
  {
   "cell_type": "code",
   "execution_count": 112,
   "metadata": {},
   "outputs": [],
   "source": [
    "df1 = df.drop(\"ID\", axis = 1)\n",
    "df1 = df1.drop(\"Social_Circle_Default\", axis = 1)\n",
    "df1 = df1.drop(\"Own_House_Age\", axis = 1)\n",
    "df1 = df1.drop(\"Client_Occupation\", axis = 1)\n",
    "df1 = df1.drop(\"Mobile_Tag\", axis = 1)\n",
    "df1 = df1.drop(\"Score_Source_3\", axis = 1)\n",
    "df1 = df1.drop(\"Credit_Bureau\", axis = 1)\n",
    "df1 = df1.drop(\"Score_Source_1\", axis = 1)"
   ]
  },
  {
   "cell_type": "code",
   "execution_count": 113,
   "metadata": {},
   "outputs": [
    {
     "name": "stdout",
     "output_type": "stream",
     "text": [
      "Client_Income                 3607\n",
      "Car_Owned                     3581\n",
      "Bike_Owned                    3624\n",
      "Active_Loan                   3635\n",
      "House_Own                     3661\n",
      "Child_Count                   3638\n",
      "Credit_Amount                 3632\n",
      "Loan_Annuity                  4812\n",
      "Accompany_Client              1746\n",
      "Client_Income_Type            3701\n",
      "Client_Education              3645\n",
      "Client_Marital_Status         3473\n",
      "Client_Gender                 2413\n",
      "Loan_Contract_Type            3651\n",
      "Client_Housing_Type           3687\n",
      "Population_Region_Relative    4857\n",
      "Age_Days                      3600\n",
      "Employed_Days                 3649\n",
      "Registration_Days             3614\n",
      "ID_Days                       5968\n",
      "Homephone_Tag                    0\n",
      "Workphone_Working                0\n",
      "Client_Family_Members         2410\n",
      "Cleint_City_Rating            2409\n",
      "Application_Process_Day       2428\n",
      "Application_Process_Hour      3663\n",
      "Client_Permanent_Match_Tag       0\n",
      "Client_Contact_Work_Tag          0\n",
      "Type_Organization             3609\n",
      "Score_Source_2                5686\n",
      "Phone_Change                  3664\n",
      "Default                          0\n",
      "dtype: int64\n"
     ]
    }
   ],
   "source": [
    "print(df1.isnull().sum())"
   ]
  },
  {
   "cell_type": "code",
   "execution_count": 114,
   "metadata": {},
   "outputs": [],
   "source": [
    "df1 = df1.dropna()"
   ]
  },
  {
   "cell_type": "code",
   "execution_count": 115,
   "metadata": {},
   "outputs": [
    {
     "data": {
      "text/plain": [
       "Client_Income                 0\n",
       "Car_Owned                     0\n",
       "Bike_Owned                    0\n",
       "Active_Loan                   0\n",
       "House_Own                     0\n",
       "Child_Count                   0\n",
       "Credit_Amount                 0\n",
       "Loan_Annuity                  0\n",
       "Accompany_Client              0\n",
       "Client_Income_Type            0\n",
       "Client_Education              0\n",
       "Client_Marital_Status         0\n",
       "Client_Gender                 0\n",
       "Loan_Contract_Type            0\n",
       "Client_Housing_Type           0\n",
       "Population_Region_Relative    0\n",
       "Age_Days                      0\n",
       "Employed_Days                 0\n",
       "Registration_Days             0\n",
       "ID_Days                       0\n",
       "Homephone_Tag                 0\n",
       "Workphone_Working             0\n",
       "Client_Family_Members         0\n",
       "Cleint_City_Rating            0\n",
       "Application_Process_Day       0\n",
       "Application_Process_Hour      0\n",
       "Client_Permanent_Match_Tag    0\n",
       "Client_Contact_Work_Tag       0\n",
       "Type_Organization             0\n",
       "Score_Source_2                0\n",
       "Phone_Change                  0\n",
       "Default                       0\n",
       "dtype: int64"
      ]
     },
     "execution_count": 115,
     "metadata": {},
     "output_type": "execute_result"
    }
   ],
   "source": [
    "df1.isnull().sum()"
   ]
  },
  {
   "cell_type": "code",
   "execution_count": 116,
   "metadata": {},
   "outputs": [
    {
     "data": {
      "text/html": [
       "<div>\n",
       "<style scoped>\n",
       "    .dataframe tbody tr th:only-of-type {\n",
       "        vertical-align: middle;\n",
       "    }\n",
       "\n",
       "    .dataframe tbody tr th {\n",
       "        vertical-align: top;\n",
       "    }\n",
       "\n",
       "    .dataframe thead th {\n",
       "        text-align: right;\n",
       "    }\n",
       "</style>\n",
       "<table border=\"1\" class=\"dataframe\">\n",
       "  <thead>\n",
       "    <tr style=\"text-align: right;\">\n",
       "      <th></th>\n",
       "      <th>Car_Owned</th>\n",
       "      <th>Bike_Owned</th>\n",
       "      <th>Active_Loan</th>\n",
       "      <th>House_Own</th>\n",
       "      <th>Child_Count</th>\n",
       "      <th>Homephone_Tag</th>\n",
       "      <th>Workphone_Working</th>\n",
       "      <th>Client_Family_Members</th>\n",
       "      <th>Cleint_City_Rating</th>\n",
       "      <th>Application_Process_Day</th>\n",
       "      <th>Application_Process_Hour</th>\n",
       "      <th>Score_Source_2</th>\n",
       "      <th>Phone_Change</th>\n",
       "      <th>Default</th>\n",
       "    </tr>\n",
       "  </thead>\n",
       "  <tbody>\n",
       "    <tr>\n",
       "      <th>count</th>\n",
       "      <td>53756.000000</td>\n",
       "      <td>53756.000000</td>\n",
       "      <td>53756.000000</td>\n",
       "      <td>53756.000000</td>\n",
       "      <td>53756.000000</td>\n",
       "      <td>53756.000000</td>\n",
       "      <td>53756.000000</td>\n",
       "      <td>53756.000000</td>\n",
       "      <td>53756.000000</td>\n",
       "      <td>53756.000000</td>\n",
       "      <td>53756.000000</td>\n",
       "      <td>53756.000000</td>\n",
       "      <td>53756.000000</td>\n",
       "      <td>53756.000000</td>\n",
       "    </tr>\n",
       "    <tr>\n",
       "      <th>mean</th>\n",
       "      <td>0.342957</td>\n",
       "      <td>0.332986</td>\n",
       "      <td>0.498196</td>\n",
       "      <td>0.693541</td>\n",
       "      <td>0.413107</td>\n",
       "      <td>0.201373</td>\n",
       "      <td>0.280843</td>\n",
       "      <td>2.149230</td>\n",
       "      <td>2.029913</td>\n",
       "      <td>3.154457</td>\n",
       "      <td>12.068774</td>\n",
       "      <td>0.516352</td>\n",
       "      <td>969.016575</td>\n",
       "      <td>0.080903</td>\n",
       "    </tr>\n",
       "    <tr>\n",
       "      <th>std</th>\n",
       "      <td>0.474702</td>\n",
       "      <td>0.471286</td>\n",
       "      <td>0.500001</td>\n",
       "      <td>0.461027</td>\n",
       "      <td>0.724951</td>\n",
       "      <td>0.401030</td>\n",
       "      <td>0.449415</td>\n",
       "      <td>0.913309</td>\n",
       "      <td>0.502804</td>\n",
       "      <td>1.758049</td>\n",
       "      <td>3.274093</td>\n",
       "      <td>0.636380</td>\n",
       "      <td>829.101278</td>\n",
       "      <td>0.272688</td>\n",
       "    </tr>\n",
       "    <tr>\n",
       "      <th>min</th>\n",
       "      <td>0.000000</td>\n",
       "      <td>0.000000</td>\n",
       "      <td>0.000000</td>\n",
       "      <td>0.000000</td>\n",
       "      <td>0.000000</td>\n",
       "      <td>0.000000</td>\n",
       "      <td>0.000000</td>\n",
       "      <td>1.000000</td>\n",
       "      <td>1.000000</td>\n",
       "      <td>0.000000</td>\n",
       "      <td>0.000000</td>\n",
       "      <td>0.000005</td>\n",
       "      <td>0.000000</td>\n",
       "      <td>0.000000</td>\n",
       "    </tr>\n",
       "    <tr>\n",
       "      <th>25%</th>\n",
       "      <td>0.000000</td>\n",
       "      <td>0.000000</td>\n",
       "      <td>0.000000</td>\n",
       "      <td>0.000000</td>\n",
       "      <td>0.000000</td>\n",
       "      <td>0.000000</td>\n",
       "      <td>0.000000</td>\n",
       "      <td>2.000000</td>\n",
       "      <td>2.000000</td>\n",
       "      <td>2.000000</td>\n",
       "      <td>10.000000</td>\n",
       "      <td>0.387957</td>\n",
       "      <td>278.000000</td>\n",
       "      <td>0.000000</td>\n",
       "    </tr>\n",
       "    <tr>\n",
       "      <th>50%</th>\n",
       "      <td>0.000000</td>\n",
       "      <td>0.000000</td>\n",
       "      <td>0.000000</td>\n",
       "      <td>1.000000</td>\n",
       "      <td>0.000000</td>\n",
       "      <td>0.000000</td>\n",
       "      <td>0.000000</td>\n",
       "      <td>2.000000</td>\n",
       "      <td>2.000000</td>\n",
       "      <td>3.000000</td>\n",
       "      <td>12.000000</td>\n",
       "      <td>0.563454</td>\n",
       "      <td>765.000000</td>\n",
       "      <td>0.000000</td>\n",
       "    </tr>\n",
       "    <tr>\n",
       "      <th>75%</th>\n",
       "      <td>1.000000</td>\n",
       "      <td>1.000000</td>\n",
       "      <td>1.000000</td>\n",
       "      <td>1.000000</td>\n",
       "      <td>1.000000</td>\n",
       "      <td>0.000000</td>\n",
       "      <td>1.000000</td>\n",
       "      <td>3.000000</td>\n",
       "      <td>2.000000</td>\n",
       "      <td>5.000000</td>\n",
       "      <td>14.000000</td>\n",
       "      <td>0.662939</td>\n",
       "      <td>1577.250000</td>\n",
       "      <td>0.000000</td>\n",
       "    </tr>\n",
       "    <tr>\n",
       "      <th>max</th>\n",
       "      <td>1.000000</td>\n",
       "      <td>1.000000</td>\n",
       "      <td>1.000000</td>\n",
       "      <td>1.000000</td>\n",
       "      <td>14.000000</td>\n",
       "      <td>1.000000</td>\n",
       "      <td>1.000000</td>\n",
       "      <td>16.000000</td>\n",
       "      <td>3.000000</td>\n",
       "      <td>6.000000</td>\n",
       "      <td>23.000000</td>\n",
       "      <td>100.000000</td>\n",
       "      <td>4121.000000</td>\n",
       "      <td>1.000000</td>\n",
       "    </tr>\n",
       "  </tbody>\n",
       "</table>\n",
       "</div>"
      ],
      "text/plain": [
       "          Car_Owned    Bike_Owned   Active_Loan     House_Own   Child_Count  \\\n",
       "count  53756.000000  53756.000000  53756.000000  53756.000000  53756.000000   \n",
       "mean       0.342957      0.332986      0.498196      0.693541      0.413107   \n",
       "std        0.474702      0.471286      0.500001      0.461027      0.724951   \n",
       "min        0.000000      0.000000      0.000000      0.000000      0.000000   \n",
       "25%        0.000000      0.000000      0.000000      0.000000      0.000000   \n",
       "50%        0.000000      0.000000      0.000000      1.000000      0.000000   \n",
       "75%        1.000000      1.000000      1.000000      1.000000      1.000000   \n",
       "max        1.000000      1.000000      1.000000      1.000000     14.000000   \n",
       "\n",
       "       Homephone_Tag  Workphone_Working  Client_Family_Members  \\\n",
       "count   53756.000000       53756.000000           53756.000000   \n",
       "mean        0.201373           0.280843               2.149230   \n",
       "std         0.401030           0.449415               0.913309   \n",
       "min         0.000000           0.000000               1.000000   \n",
       "25%         0.000000           0.000000               2.000000   \n",
       "50%         0.000000           0.000000               2.000000   \n",
       "75%         0.000000           1.000000               3.000000   \n",
       "max         1.000000           1.000000              16.000000   \n",
       "\n",
       "       Cleint_City_Rating  Application_Process_Day  Application_Process_Hour  \\\n",
       "count        53756.000000             53756.000000              53756.000000   \n",
       "mean             2.029913                 3.154457                 12.068774   \n",
       "std              0.502804                 1.758049                  3.274093   \n",
       "min              1.000000                 0.000000                  0.000000   \n",
       "25%              2.000000                 2.000000                 10.000000   \n",
       "50%              2.000000                 3.000000                 12.000000   \n",
       "75%              2.000000                 5.000000                 14.000000   \n",
       "max              3.000000                 6.000000                 23.000000   \n",
       "\n",
       "       Score_Source_2  Phone_Change       Default  \n",
       "count    53756.000000  53756.000000  53756.000000  \n",
       "mean         0.516352    969.016575      0.080903  \n",
       "std          0.636380    829.101278      0.272688  \n",
       "min          0.000005      0.000000      0.000000  \n",
       "25%          0.387957    278.000000      0.000000  \n",
       "50%          0.563454    765.000000      0.000000  \n",
       "75%          0.662939   1577.250000      0.000000  \n",
       "max        100.000000   4121.000000      1.000000  "
      ]
     },
     "execution_count": 116,
     "metadata": {},
     "output_type": "execute_result"
    }
   ],
   "source": [
    "df1.describe()"
   ]
  },
  {
   "cell_type": "code",
   "execution_count": 117,
   "metadata": {},
   "outputs": [
    {
     "data": {
      "text/plain": [
       "<AxesSubplot:>"
      ]
     },
     "execution_count": 117,
     "metadata": {},
     "output_type": "execute_result"
    },
    {
     "data": {
      "image/png": "[encoded data removed]",
      "text/plain": [
       "<Figure size 432x288 with 1 Axes>"
      ]
     },
     "metadata": {
      "needs_background": "light"
     },
     "output_type": "display_data"
    }
   ],
   "source": [
    "xxx = df1['Child_Count']\n",
    "xxx.hist()"
   ]
  },
  {
   "cell_type": "code",
   "execution_count": 118,
   "metadata": {},
   "outputs": [
    {
     "data": {
      "text/plain": [
       "<AxesSubplot:xlabel='Child_Count'>"
      ]
     },
     "execution_count": 118,
     "metadata": {},
     "output_type": "execute_result"
    },
    {
     "data": {
      "image/png": "[encoded data removed]",
      "text/plain": [
       "<Figure size 432x288 with 1 Axes>"
      ]
     },
     "metadata": {
      "needs_background": "light"
     },
     "output_type": "display_data"
    }
   ],
   "source": [
    "sns.boxplot(df1['Child_Count'])"
   ]
  },
  {
   "cell_type": "code",
   "execution_count": 119,
   "metadata": {},
   "outputs": [
    {
     "name": "stdout",
     "output_type": "stream",
     "text": [
      "(array([ 1479,  5186,  7973,  9705, 14208, 23203, 27129, 27913, 29061,\n",
      "       34118, 34750, 40321, 45884, 47050], dtype=int64),)\n"
     ]
    }
   ],
   "source": [
    "print(np.where(df1['Child_Count']>5))"
   ]
  },
  {
   "cell_type": "code",
   "execution_count": 120,
   "metadata": {},
   "outputs": [
    {
     "name": "stdout",
     "output_type": "stream",
     "text": [
      "0         0.569847\n",
      "5         0.809570\n",
      "6         0.569847\n",
      "7         0.569847\n",
      "10        0.809570\n",
      "            ...   \n",
      "121850    0.569847\n",
      "121852    0.569847\n",
      "121853    0.809570\n",
      "121854    0.569847\n",
      "121855    0.809570\n",
      "Name: Child_Count, Length: 53756, dtype: float64\n"
     ]
    }
   ],
   "source": [
    "z = np.abs(stats.zscore(df1['Child_Count']))\n",
    "print(z)"
   ]
  },
  {
   "cell_type": "code",
   "execution_count": 121,
   "metadata": {},
   "outputs": [
    {
     "name": "stdout",
     "output_type": "stream",
     "text": [
      "(array([ 1068,  1479,  1862,  2274,  3542,  4294,  5186,  7973,  8113,\n",
      "        9705, 14208, 16028, 21646, 23203, 23883, 25474, 25541, 27129,\n",
      "       27375, 27913, 29061, 34118, 34750, 35327, 37996, 40321, 42518,\n",
      "       45884, 47050, 48808], dtype=int64),)\n"
     ]
    }
   ],
   "source": [
    "print(np.where(z > 5))"
   ]
  },
  {
   "cell_type": "code",
   "execution_count": 122,
   "metadata": {},
   "outputs": [
    {
     "data": {
      "text/plain": [
       "array([ 0.,  1.,  3.,  2.,  4.,  5.,  7., 10.,  6., 12., 14.])"
      ]
     },
     "execution_count": 122,
     "metadata": {},
     "output_type": "execute_result"
    }
   ],
   "source": [
    "df1.Child_Count.unique()"
   ]
  },
  {
   "cell_type": "code",
   "execution_count": 123,
   "metadata": {},
   "outputs": [
    {
     "data": {
      "text/plain": [
       "0"
      ]
     },
     "execution_count": 123,
     "metadata": {},
     "output_type": "execute_result"
    }
   ],
   "source": [
    "df1.Child_Count.isnull().sum()"
   ]
  },
  {
   "cell_type": "code",
   "execution_count": 124,
   "metadata": {},
   "outputs": [
    {
     "data": {
      "text/plain": [
       "0.41310737406056997"
      ]
     },
     "execution_count": 124,
     "metadata": {},
     "output_type": "execute_result"
    }
   ],
   "source": [
    "np.mean(df1['Child_Count'])"
   ]
  },
  {
   "cell_type": "code",
   "execution_count": 125,
   "metadata": {},
   "outputs": [
    {
     "name": "stdout",
     "output_type": "stream",
     "text": [
      "0.0\n",
      "1.0\n",
      "1.0\n"
     ]
    }
   ],
   "source": [
    "Q1 = np.percentile(df1['Child_Count'], 25,\n",
    "                   interpolation = 'midpoint')\n",
    " \n",
    "Q3 = np.percentile(df1['Child_Count'], 75,\n",
    "                   interpolation = 'midpoint')\n",
    "IQR = Q3 - Q1\n",
    "print(Q1)\n",
    "print(Q3)\n",
    "print(IQR)"
   ]
  },
  {
   "cell_type": "code",
   "execution_count": 126,
   "metadata": {},
   "outputs": [
    {
     "name": "stdout",
     "output_type": "stream",
     "text": [
      "Upper bound: 0         False\n",
      "5         False\n",
      "6         False\n",
      "7         False\n",
      "10        False\n",
      "          ...  \n",
      "121850    False\n",
      "121852    False\n",
      "121853    False\n",
      "121854    False\n",
      "121855    False\n",
      "Name: Child_Count, Length: 53756, dtype: bool\n",
      "(array([   21,    43,    46,    52,    85,   118,   241,   250,   312,\n",
      "         472,   768,   959,  1005,  1057,  1068,  1074,  1095,  1141,\n",
      "        1178,  1196,  1221,  1386,  1479,  1622,  1737,  1775,  1825,\n",
      "        1831,  1862,  1884,  2008,  2030,  2056,  2171,  2249,  2274,\n",
      "        2310,  2506,  2616,  2625,  2642,  2680,  2704,  2813,  2888,\n",
      "        2958,  2960,  3011,  3083,  3093,  3097,  3200,  3302,  3376,\n",
      "        3380,  3446,  3452,  3542,  3615,  3621,  3686,  3836,  3921,\n",
      "        4031,  4037,  4294,  4335,  4345,  4348,  4372,  4393,  4447,\n",
      "        4592,  4634,  4643,  4848,  5028,  5077,  5091,  5093,  5119,\n",
      "        5129,  5186,  5187,  5191,  5304,  5318,  5450,  5592,  5613,\n",
      "        5809,  5935,  5953,  5995,  6056,  6087,  6165,  6211,  6358,\n",
      "        6465,  6500,  6535,  6682,  6776,  6885,  6964,  7032,  7038,\n",
      "        7175,  7251,  7292,  7463,  7564,  7759,  7769,  7910,  7973,\n",
      "        8080,  8113,  8246,  8257,  8328,  8336,  8468,  8649,  8660,\n",
      "        8979,  8990,  9047,  9055,  9321,  9324,  9352,  9392,  9396,\n",
      "        9488,  9581,  9649,  9654,  9705,  9723,  9729,  9788,  9877,\n",
      "       10024, 10038, 10200, 10254, 10311, 10357, 10384, 10520, 10985,\n",
      "       10992, 11013, 11338, 11587, 11672, 11746, 11971, 11990, 12000,\n",
      "       12145, 12210, 12231, 12242, 12345, 12437, 12506, 12550, 12669,\n",
      "       12737, 12755, 12935, 12975, 13155, 13158, 13172, 13387, 13570,\n",
      "       13645, 13660, 13915, 14154, 14175, 14188, 14208, 14293, 14417,\n",
      "       14444, 14478, 14554, 14581, 14607, 14724, 14831, 14880, 14925,\n",
      "       14929, 14965, 14998, 15152, 15212, 15220, 15385, 15408, 15415,\n",
      "       15438, 15738, 15953, 16028, 16077, 16182, 16247, 16350, 16378,\n",
      "       16401, 16421, 16450, 16615, 16651, 16926, 16930, 17045, 17074,\n",
      "       17120, 17277, 17284, 17319, 17576, 17751, 17994, 18070, 18128,\n",
      "       18272, 18279, 18407, 18572, 18653, 18748, 18762, 18772, 18823,\n",
      "       18992, 18993, 19000, 19019, 19046, 19074, 19105, 19156, 19157,\n",
      "       19170, 19239, 19248, 19264, 19275, 19298, 19401, 19432, 19480,\n",
      "       19629, 19631, 19635, 19732, 19952, 20000, 20115, 20216, 20228,\n",
      "       20293, 20330, 20332, 20466, 20478, 20495, 20648, 20716, 20786,\n",
      "       20836, 20946, 20995, 21108, 21176, 21361, 21622, 21646, 21712,\n",
      "       21728, 21730, 21734, 21984, 22006, 22095, 22138, 22177, 22593,\n",
      "       22624, 22912, 22993, 23044, 23085, 23159, 23175, 23185, 23203,\n",
      "       23326, 23343, 23379, 23417, 23486, 23575, 23758, 23760, 23811,\n",
      "       23822, 23883, 23969, 24002, 24103, 24141, 24241, 24328, 24364,\n",
      "       24406, 24517, 24538, 24577, 24619, 24631, 24765, 25000, 25044,\n",
      "       25054, 25118, 25172, 25204, 25265, 25334, 25370, 25474, 25541,\n",
      "       25611, 25650, 25767, 25771, 25780, 25827, 25856, 26045, 26055,\n",
      "       26116, 26272, 26305, 26893, 26948, 27083, 27129, 27163, 27346,\n",
      "       27374, 27375, 27524, 27566, 27596, 27753, 27838, 27913, 27927,\n",
      "       28105, 28108, 28206, 28282, 28393, 28406, 28478, 28482, 28495,\n",
      "       28501, 28512, 28800, 28840, 28843, 28932, 29054, 29061, 29074,\n",
      "       29107, 29121, 29170, 29200, 29332, 29359, 29465, 29614, 29632,\n",
      "       29787, 30166, 30167, 30256, 30373, 30449, 30451, 30529, 30601,\n",
      "       30848, 30887, 30922, 31005, 31036, 31224, 31248, 31535, 31756,\n",
      "       31823, 31829, 32018, 32028, 32043, 32044, 32050, 32249, 32254,\n",
      "       32367, 32409, 32492, 32559, 32579, 32580, 32787, 32934, 32939,\n",
      "       33066, 33069, 33150, 33154, 33191, 33236, 33244, 33250, 33401,\n",
      "       33406, 33434, 33457, 33500, 33506, 33572, 33607, 33669, 33708,\n",
      "       33727, 33771, 33862, 33869, 34098, 34118, 34234, 34345, 34374,\n",
      "       34462, 34488, 34511, 34528, 34602, 34750, 34760, 34815, 34820,\n",
      "       34844, 35028, 35055, 35215, 35327, 35355, 35495, 35572, 35582,\n",
      "       35624, 35667, 35679, 35690, 35691, 35717, 35727, 35739, 35899,\n",
      "       36039, 36063, 36232, 36298, 36309, 36388, 36444, 36529, 36541,\n",
      "       36552, 36667, 36687, 36698, 36752, 36787, 37078, 37176, 37536,\n",
      "       37573, 37774, 37920, 37921, 37996, 38201, 38346, 38363, 38528,\n",
      "       38539, 38625, 38661, 38759, 39125, 39145, 39253, 39261, 39291,\n",
      "       39344, 39457, 39523, 39549, 39703, 39826, 39911, 39974, 40117,\n",
      "       40133, 40321, 40422, 40474, 40515, 40554, 40646, 40655, 40663,\n",
      "       40694, 40749, 40811, 40815, 40829, 40898, 40938, 40982, 41038,\n",
      "       41052, 41139, 41251, 41316, 41356, 41503, 41793, 41889, 41922,\n",
      "       41955, 42167, 42329, 42361, 42424, 42445, 42518, 42552, 42587,\n",
      "       42727, 42773, 42846, 42980, 42993, 43283, 43351, 43573, 43713,\n",
      "       43729, 43810, 43875, 43970, 43999, 44029, 44037, 44048, 44208,\n",
      "       44213, 44302, 44369, 44551, 44571, 44576, 44578, 44593, 44620,\n",
      "       44646, 44665, 44672, 44680, 44761, 44808, 44861, 44889, 44891,\n",
      "       44911, 44916, 44965, 44973, 45014, 45280, 45351, 45472, 45620,\n",
      "       45744, 45788, 45828, 45877, 45884, 45906, 46082, 46125, 46135,\n",
      "       46147, 46149, 46225, 46263, 46320, 46359, 46445, 46481, 46592,\n",
      "       46645, 46752, 46939, 46978, 47050, 47164, 47405, 47673, 47715,\n",
      "       47741, 47763, 47856, 47898, 47935, 47989, 48218, 48234, 48243,\n",
      "       48297, 48618, 48632, 48665, 48700, 48808, 49216, 49410, 49450,\n",
      "       49596, 49608, 49710, 49718, 49792, 50041, 50119, 50175, 50259,\n",
      "       50262, 50271, 50278, 50680, 50739, 50826, 50855, 50905, 51055,\n",
      "       51120, 51162, 51206, 51229, 51342, 51379, 51387, 51393, 51421,\n",
      "       51738, 51785, 51789, 51814, 51825, 52034, 52225, 52250, 52363,\n",
      "       52367, 52407, 52473, 52584, 52624, 52641, 52718, 52908, 53232,\n",
      "       53240, 53434, 53473, 53474, 53688, 53725, 53729], dtype=int64),)\n"
     ]
    }
   ],
   "source": [
    "upper = df1['Child_Count'] >= (Q3+1.5*IQR)\n",
    " \n",
    "print(\"Upper bound:\",upper)\n",
    "print(np.where(upper))"
   ]
  },
  {
   "cell_type": "code",
   "execution_count": 127,
   "metadata": {},
   "outputs": [
    {
     "name": "stdout",
     "output_type": "stream",
     "text": [
      "Lower bound: 0         False\n",
      "5         False\n",
      "6         False\n",
      "7         False\n",
      "10        False\n",
      "          ...  \n",
      "121850    False\n",
      "121852    False\n",
      "121853    False\n",
      "121854    False\n",
      "121855    False\n",
      "Name: Child_Count, Length: 53756, dtype: bool\n",
      "(array([], dtype=int64),)\n"
     ]
    }
   ],
   "source": [
    "# Below Lower bound\n",
    "lower = df1['Child_Count'] <= (Q1-1.5*IQR)\n",
    "print(\"Lower bound:\", lower)\n",
    "print(np.where(lower))"
   ]
  },
  {
   "cell_type": "code",
   "execution_count": 128,
   "metadata": {},
   "outputs": [
    {
     "data": {
      "image/png": "[encoded data removed]",
      "text/plain": [
       "<Figure size 2160x2160 with 2 Axes>"
      ]
     },
     "metadata": {
      "needs_background": "light"
     },
     "output_type": "display_data"
    }
   ],
   "source": [
    "plt.figure(figsize=(30,30))\n",
    "sns.heatmap(df1.corr(), annot=True, square=True, cmap='coolwarm')\n",
    "plt.show()"
   ]
  },
  {
   "cell_type": "code",
   "execution_count": 129,
   "metadata": {},
   "outputs": [],
   "source": [
    "def correlation_fix(data, treshold):\n",
    "\n",
    "    corr_cols_set = set()\n",
    "\n",
    "    corr_matrix = data.corr()\n",
    "\n",
    "    m = corr_matrix.shape[0]\n",
    "\n",
    "    n = corr_matrix.shape[1]\n",
    "\n",
    "    for i in range(m):\n",
    "\n",
    "        for j in range(n):\n",
    "\n",
    "            if (abs(corr_matrix.iloc[i, j]) >= treshold or abs(corr_matrix.iloc[i, j]) <= -treshold ):\n",
    "\n",
    "                col = corr_matrix.columns[i]\n",
    "\n",
    "                corr_cols_set.add(col)\n",
    "            \n",
    "\n",
    "    return corr_cols_set\n"
   ]
  },
  {
   "cell_type": "code",
   "execution_count": 130,
   "metadata": {},
   "outputs": [
    {
     "data": {
      "text/plain": [
       "{'Active_Loan',\n",
       " 'Application_Process_Day',\n",
       " 'Application_Process_Hour',\n",
       " 'Bike_Owned',\n",
       " 'Car_Owned',\n",
       " 'Child_Count',\n",
       " 'Cleint_City_Rating',\n",
       " 'Client_Family_Members',\n",
       " 'Default',\n",
       " 'Homephone_Tag',\n",
       " 'House_Own',\n",
       " 'Phone_Change',\n",
       " 'Score_Source_2',\n",
       " 'Workphone_Working'}"
      ]
     },
     "execution_count": 130,
     "metadata": {},
     "output_type": "execute_result"
    }
   ],
   "source": [
    "corr_cols_set = correlation_fix(df1, 0.8)\n",
    "corr_cols_set"
   ]
  },
  {
   "cell_type": "code",
   "execution_count": 131,
   "metadata": {},
   "outputs": [
    {
     "data": {
      "text/plain": [
       "'Child_Count'"
      ]
     },
     "execution_count": 131,
     "metadata": {},
     "output_type": "execute_result"
    }
   ],
   "source": [
    "# >>> retriving value from set\n",
    "s = corr_cols_set\n",
    "list(s)[0]"
   ]
  },
  {
   "cell_type": "markdown",
   "metadata": {},
   "source": [
    "## correlated column dataframe"
   ]
  },
  {
   "cell_type": "code",
   "execution_count": 132,
   "metadata": {},
   "outputs": [
    {
     "data": {
      "text/plain": [
       "Client_Income                  object\n",
       "Car_Owned                     float64\n",
       "Bike_Owned                    float64\n",
       "Active_Loan                   float64\n",
       "House_Own                     float64\n",
       "Child_Count                   float64\n",
       "Credit_Amount                  object\n",
       "Loan_Annuity                   object\n",
       "Accompany_Client               object\n",
       "Client_Income_Type             object\n",
       "Client_Education               object\n",
       "Client_Marital_Status          object\n",
       "Client_Gender                  object\n",
       "Loan_Contract_Type             object\n",
       "Client_Housing_Type            object\n",
       "Population_Region_Relative     object\n",
       "Age_Days                       object\n",
       "Employed_Days                  object\n",
       "Registration_Days              object\n",
       "ID_Days                        object\n",
       "Homephone_Tag                   int64\n",
       "Workphone_Working               int64\n",
       "Client_Family_Members         float64\n",
       "Cleint_City_Rating            float64\n",
       "Application_Process_Day       float64\n",
       "Application_Process_Hour      float64\n",
       "Client_Permanent_Match_Tag     object\n",
       "Client_Contact_Work_Tag        object\n",
       "Type_Organization              object\n",
       "Score_Source_2                float64\n",
       "Phone_Change                  float64\n",
       "Default                         int64\n",
       "dtype: object"
      ]
     },
     "execution_count": 132,
     "metadata": {},
     "output_type": "execute_result"
    }
   ],
   "source": [
    "df1.dtypes"
   ]
  },
  {
   "cell_type": "code",
   "execution_count": 133,
   "metadata": {},
   "outputs": [],
   "source": [
    "cols = df1.columns\n",
    "\n",
    "# >>> remove $\n",
    "for k in cols:\n",
    "\n",
    "    for x in df1[str(k)]:\n",
    "        \n",
    "        if (x == '$'):\n",
    "            \n",
    "            df1.drop(df1[df1[str(k)] == '$'].index, inplace = True)\n",
    "\n",
    "# >>> remove #VALUE!\n",
    "for k in cols:\n",
    "\n",
    "    for x in df1[str(k)]:\n",
    "        \n",
    "        if (x == '#VALUE!'):\n",
    "\n",
    "            df1.drop(df1[df1[str(k)] == '#VALUE!'].index, inplace = True)\n",
    "\n",
    "# >>> remove null\n",
    "for k in cols:\n",
    "\n",
    "    for x in df1[str(k)]:\n",
    "        \n",
    "        if (x == 'null'):\n",
    "\n",
    "            df1.drop(df1[df1[f'X{k}'] == 'null'].index, inplace = True)   \n",
    "\n",
    "# >>> remove XNA\n",
    "for k in cols:\n",
    "\n",
    "    for x in df1[str(k)]:\n",
    "\n",
    "        if (x == 'XNA'):\n",
    "\n",
    "            df1.drop(df1[df1[str(k)] == 'XNA'].index, inplace = True)   \n",
    "\n",
    "# >>> remove x\n",
    "for k in cols:\n",
    "\n",
    "    for x in df1[str(k)]:\n",
    "\n",
    "        if (x == 'x'):\n",
    "\n",
    "            df1.drop(df1[df1[str(k)] == 'x'].index, inplace = True)  "
   ]
  },
  {
   "cell_type": "code",
   "execution_count": 134,
   "metadata": {},
   "outputs": [],
   "source": [
    "Finaldf=df1[['Credit_Amount','Client_Income','Loan_Annuity','Age_Days','Phone_Change','ID_Days','Client_Education','Client_Gender','Client_Income_Type','Child_Count','Workphone_Working','Application_Process_Hour','Cleint_City_Rating','Homephone_Tag','Car_Owned' , 'Registration_Days','Default']]"
   ]
  },
  {
   "cell_type": "code",
   "execution_count": 135,
   "metadata": {},
   "outputs": [
    {
     "data": {
      "text/plain": [
       "['Loan_Contract_Type',\n",
       " 'Client_Permanent_Match_Tag',\n",
       " 'Accompany_Client',\n",
       " 'Employed_Days',\n",
       " 'Client_Income',\n",
       " 'Client_Income_Type',\n",
       " 'Client_Contact_Work_Tag',\n",
       " 'ID_Days',\n",
       " 'Client_Gender',\n",
       " 'Population_Region_Relative',\n",
       " 'Client_Marital_Status',\n",
       " 'Loan_Annuity',\n",
       " 'Type_Organization',\n",
       " 'Client_Education',\n",
       " 'Credit_Amount',\n",
       " 'Age_Days',\n",
       " 'Client_Housing_Type',\n",
       " 'Registration_Days']"
      ]
     },
     "execution_count": 135,
     "metadata": {},
     "output_type": "execute_result"
    }
   ],
   "source": [
    "cols = df1.columns\n",
    "num_cols = df1._get_numeric_data().columns\n",
    "cat_cols = list(set(cols) - set(num_cols))\n",
    "cat_cols"
   ]
  },
  {
   "cell_type": "code",
   "execution_count": 136,
   "metadata": {},
   "outputs": [
    {
     "data": {
      "image/png": "[encoded data removed]",
      "text/plain": [
       "<Figure size 432x288 with 1 Axes>"
      ]
     },
     "metadata": {
      "needs_background": "light"
     },
     "output_type": "display_data"
    }
   ],
   "source": [
    "pred_var = sns.countplot(Finaldf['Default'])\n",
    "pred_var.set_xticklabels(['Not Default','Default'])\n",
    "plt.show()"
   ]
  },
  {
   "cell_type": "code",
   "execution_count": 137,
   "metadata": {},
   "outputs": [
    {
     "data": {
      "image/png": "[encoded data removed]",
      "text/plain": [
       "<Figure size 2160x2160 with 8 Axes>"
      ]
     },
     "metadata": {
      "needs_background": "light"
     },
     "output_type": "display_data"
    }
   ],
   "source": [
    "catg_cols = ['Client_Income_Type', 'Client_Permanent_Match_Tag', 'Client_Marital_Status', 'Client_Education', 'Client_Contact_Work_Tag', 'Client_Gender', \n",
    "'Client_Housing_Type', 'Loan_Contract_Type']\n",
    "\n",
    "figure, axes = plt.subplots(4, 2, figsize = (30, 30))\n",
    "\n",
    "for index, catg_col in enumerate(catg_cols):\n",
    "\n",
    "    row, col = index // 2, index % 2\n",
    "\n",
    "    sns.countplot( x = catg_col, data = df1, hue = 'Default', ax=axes[row, col] ) \n",
    "\n",
    "\n",
    "plt.subplots_adjust(hspace = 1 )"
   ]
  },
  {
   "cell_type": "code",
   "execution_count": 169,
   "metadata": {},
   "outputs": [],
   "source": [
    "Y = Finaldf['Default']                  # >>> target column \n",
    "X = Finaldf.drop(\"Default\",axis=1)      # >>> independent columns\n",
    "\n",
    "#apply SelectKBest class to extract top best features\n",
    "\n",
    "# bestfeatures = SelectKBest(score_func=chi2, k=10)\n",
    "\n",
    "# fit = bestfeatures.fit(X,Y)\n",
    "\n",
    "# dfscores = pd.DataFrame(fit.scores_)\n",
    "\n",
    "# dfcolumns = pd.DataFrame(X.columns)\n",
    "\n",
    "# #concat two dataframes for better visualization \n",
    "\n",
    "# featureScores = pd.concat([dfcolumns,dfscores],axis=1)\n",
    "\n",
    "# featureScores.columns = ['Specs','Score']  # >>> naming the dataframe columns\n",
    "\n",
    "# topfeatures=featureScores.nlargest(20,'Score')"
   ]
  },
  {
   "cell_type": "code",
   "execution_count": 139,
   "metadata": {},
   "outputs": [],
   "source": [
    "# topfeatures"
   ]
  },
  {
   "cell_type": "code",
   "execution_count": 140,
   "metadata": {},
   "outputs": [
    {
     "data": {
      "text/html": [
       "<div>\n",
       "<style scoped>\n",
       "    .dataframe tbody tr th:only-of-type {\n",
       "        vertical-align: middle;\n",
       "    }\n",
       "\n",
       "    .dataframe tbody tr th {\n",
       "        vertical-align: top;\n",
       "    }\n",
       "\n",
       "    .dataframe thead th {\n",
       "        text-align: right;\n",
       "    }\n",
       "</style>\n",
       "<table border=\"1\" class=\"dataframe\">\n",
       "  <thead>\n",
       "    <tr style=\"text-align: right;\">\n",
       "      <th></th>\n",
       "      <th>Credit_Amount</th>\n",
       "      <th>Client_Income</th>\n",
       "      <th>Loan_Annuity</th>\n",
       "      <th>Age_Days</th>\n",
       "      <th>Phone_Change</th>\n",
       "      <th>ID_Days</th>\n",
       "      <th>Client_Education</th>\n",
       "      <th>Client_Gender</th>\n",
       "      <th>Client_Income_Type</th>\n",
       "      <th>Child_Count</th>\n",
       "      <th>Workphone_Working</th>\n",
       "      <th>Application_Process_Hour</th>\n",
       "      <th>Cleint_City_Rating</th>\n",
       "      <th>Homephone_Tag</th>\n",
       "      <th>Car_Owned</th>\n",
       "      <th>Registration_Days</th>\n",
       "    </tr>\n",
       "  </thead>\n",
       "  <tbody>\n",
       "    <tr>\n",
       "      <th>0</th>\n",
       "      <td>61190.55</td>\n",
       "      <td>6750</td>\n",
       "      <td>3416.85</td>\n",
       "      <td>13957</td>\n",
       "      <td>63.0</td>\n",
       "      <td>383</td>\n",
       "      <td>Secondary</td>\n",
       "      <td>Male</td>\n",
       "      <td>Commercial</td>\n",
       "      <td>0.0</td>\n",
       "      <td>0</td>\n",
       "      <td>17.0</td>\n",
       "      <td>2.0</td>\n",
       "      <td>1</td>\n",
       "      <td>0.0</td>\n",
       "      <td>6123</td>\n",
       "    </tr>\n",
       "    <tr>\n",
       "      <th>5</th>\n",
       "      <td>13752</td>\n",
       "      <td>11250</td>\n",
       "      <td>653.85</td>\n",
       "      <td>13881</td>\n",
       "      <td>739.0</td>\n",
       "      <td>3910</td>\n",
       "      <td>Secondary</td>\n",
       "      <td>Female</td>\n",
       "      <td>Service</td>\n",
       "      <td>1.0</td>\n",
       "      <td>0</td>\n",
       "      <td>10.0</td>\n",
       "      <td>2.0</td>\n",
       "      <td>0</td>\n",
       "      <td>0.0</td>\n",
       "      <td>3910</td>\n",
       "    </tr>\n",
       "    <tr>\n",
       "      <th>10</th>\n",
       "      <td>67500</td>\n",
       "      <td>27000</td>\n",
       "      <td>3375</td>\n",
       "      <td>14816</td>\n",
       "      <td>1799.0</td>\n",
       "      <td>4640</td>\n",
       "      <td>Graduation</td>\n",
       "      <td>Male</td>\n",
       "      <td>Govt Job</td>\n",
       "      <td>1.0</td>\n",
       "      <td>0</td>\n",
       "      <td>12.0</td>\n",
       "      <td>2.0</td>\n",
       "      <td>0</td>\n",
       "      <td>0.0</td>\n",
       "      <td>2933</td>\n",
       "    </tr>\n",
       "    <tr>\n",
       "      <th>11</th>\n",
       "      <td>149963.85</td>\n",
       "      <td>15750</td>\n",
       "      <td>4397.85</td>\n",
       "      <td>11318</td>\n",
       "      <td>1333.0</td>\n",
       "      <td>2155</td>\n",
       "      <td>Graduation</td>\n",
       "      <td>Male</td>\n",
       "      <td>Service</td>\n",
       "      <td>1.0</td>\n",
       "      <td>0</td>\n",
       "      <td>8.0</td>\n",
       "      <td>2.0</td>\n",
       "      <td>0</td>\n",
       "      <td>0.0</td>\n",
       "      <td>5165</td>\n",
       "    </tr>\n",
       "    <tr>\n",
       "      <th>15</th>\n",
       "      <td>105493.5</td>\n",
       "      <td>45000</td>\n",
       "      <td>4482.45</td>\n",
       "      <td>15568</td>\n",
       "      <td>713.0</td>\n",
       "      <td>4739</td>\n",
       "      <td>Secondary</td>\n",
       "      <td>Female</td>\n",
       "      <td>Commercial</td>\n",
       "      <td>1.0</td>\n",
       "      <td>0</td>\n",
       "      <td>9.0</td>\n",
       "      <td>3.0</td>\n",
       "      <td>0</td>\n",
       "      <td>1.0</td>\n",
       "      <td>1145</td>\n",
       "    </tr>\n",
       "    <tr>\n",
       "      <th>...</th>\n",
       "      <td>...</td>\n",
       "      <td>...</td>\n",
       "      <td>...</td>\n",
       "      <td>...</td>\n",
       "      <td>...</td>\n",
       "      <td>...</td>\n",
       "      <td>...</td>\n",
       "      <td>...</td>\n",
       "      <td>...</td>\n",
       "      <td>...</td>\n",
       "      <td>...</td>\n",
       "      <td>...</td>\n",
       "      <td>...</td>\n",
       "      <td>...</td>\n",
       "      <td>...</td>\n",
       "      <td>...</td>\n",
       "    </tr>\n",
       "    <tr>\n",
       "      <th>121849</th>\n",
       "      <td>18792.9</td>\n",
       "      <td>10350</td>\n",
       "      <td>1736.55</td>\n",
       "      <td>9204.0</td>\n",
       "      <td>774.0</td>\n",
       "      <td>1874.0</td>\n",
       "      <td>Graduation dropout</td>\n",
       "      <td>Male</td>\n",
       "      <td>Service</td>\n",
       "      <td>0.0</td>\n",
       "      <td>1</td>\n",
       "      <td>11.0</td>\n",
       "      <td>2.0</td>\n",
       "      <td>0</td>\n",
       "      <td>0.0</td>\n",
       "      <td>3773.0</td>\n",
       "    </tr>\n",
       "    <tr>\n",
       "      <th>121852</th>\n",
       "      <td>104256</td>\n",
       "      <td>15750</td>\n",
       "      <td>3388.05</td>\n",
       "      <td>8648.0</td>\n",
       "      <td>4.0</td>\n",
       "      <td>1209.0</td>\n",
       "      <td>Graduation</td>\n",
       "      <td>Female</td>\n",
       "      <td>Commercial</td>\n",
       "      <td>0.0</td>\n",
       "      <td>0</td>\n",
       "      <td>12.0</td>\n",
       "      <td>3.0</td>\n",
       "      <td>1</td>\n",
       "      <td>0.0</td>\n",
       "      <td>902.0</td>\n",
       "    </tr>\n",
       "    <tr>\n",
       "      <th>121853</th>\n",
       "      <td>55107.9</td>\n",
       "      <td>8100</td>\n",
       "      <td>2989.35</td>\n",
       "      <td>9152.0</td>\n",
       "      <td>0.0</td>\n",
       "      <td>353.0</td>\n",
       "      <td>Secondary</td>\n",
       "      <td>Male</td>\n",
       "      <td>Govt Job</td>\n",
       "      <td>1.0</td>\n",
       "      <td>0</td>\n",
       "      <td>11.0</td>\n",
       "      <td>3.0</td>\n",
       "      <td>0</td>\n",
       "      <td>0.0</td>\n",
       "      <td>3980.0</td>\n",
       "    </tr>\n",
       "    <tr>\n",
       "      <th>121854</th>\n",
       "      <td>45000</td>\n",
       "      <td>38250</td>\n",
       "      <td>2719.35</td>\n",
       "      <td>10290.0</td>\n",
       "      <td>0.0</td>\n",
       "      <td>2902.0</td>\n",
       "      <td>Graduation</td>\n",
       "      <td>Female</td>\n",
       "      <td>Service</td>\n",
       "      <td>0.0</td>\n",
       "      <td>0</td>\n",
       "      <td>12.0</td>\n",
       "      <td>2.0</td>\n",
       "      <td>0</td>\n",
       "      <td>1.0</td>\n",
       "      <td>895.0</td>\n",
       "    </tr>\n",
       "    <tr>\n",
       "      <th>121855</th>\n",
       "      <td>62428.95</td>\n",
       "      <td>9000</td>\n",
       "      <td>4201.65</td>\n",
       "      <td>14772.0</td>\n",
       "      <td>805.0</td>\n",
       "      <td>5025.0</td>\n",
       "      <td>Secondary</td>\n",
       "      <td>Male</td>\n",
       "      <td>Commercial</td>\n",
       "      <td>1.0</td>\n",
       "      <td>0</td>\n",
       "      <td>6.0</td>\n",
       "      <td>3.0</td>\n",
       "      <td>0</td>\n",
       "      <td>1.0</td>\n",
       "      <td>8679.0</td>\n",
       "    </tr>\n",
       "  </tbody>\n",
       "</table>\n",
       "<p>44075 rows × 16 columns</p>\n",
       "</div>"
      ],
      "text/plain": [
       "       Credit_Amount Client_Income Loan_Annuity Age_Days  Phone_Change  \\\n",
       "0           61190.55          6750      3416.85    13957          63.0   \n",
       "5              13752         11250       653.85    13881         739.0   \n",
       "10             67500         27000         3375    14816        1799.0   \n",
       "11         149963.85         15750      4397.85    11318        1333.0   \n",
       "15          105493.5         45000      4482.45    15568         713.0   \n",
       "...              ...           ...          ...      ...           ...   \n",
       "121849       18792.9         10350      1736.55   9204.0         774.0   \n",
       "121852        104256         15750      3388.05   8648.0           4.0   \n",
       "121853       55107.9          8100      2989.35   9152.0           0.0   \n",
       "121854         45000         38250      2719.35  10290.0           0.0   \n",
       "121855      62428.95          9000      4201.65  14772.0         805.0   \n",
       "\n",
       "       ID_Days    Client_Education Client_Gender Client_Income_Type  \\\n",
       "0          383           Secondary          Male         Commercial   \n",
       "5         3910           Secondary        Female            Service   \n",
       "10        4640          Graduation          Male           Govt Job   \n",
       "11        2155          Graduation          Male            Service   \n",
       "15        4739           Secondary        Female         Commercial   \n",
       "...        ...                 ...           ...                ...   \n",
       "121849  1874.0  Graduation dropout          Male            Service   \n",
       "121852  1209.0          Graduation        Female         Commercial   \n",
       "121853   353.0           Secondary          Male           Govt Job   \n",
       "121854  2902.0          Graduation        Female            Service   \n",
       "121855  5025.0           Secondary          Male         Commercial   \n",
       "\n",
       "        Child_Count  Workphone_Working  Application_Process_Hour  \\\n",
       "0               0.0                  0                      17.0   \n",
       "5               1.0                  0                      10.0   \n",
       "10              1.0                  0                      12.0   \n",
       "11              1.0                  0                       8.0   \n",
       "15              1.0                  0                       9.0   \n",
       "...             ...                ...                       ...   \n",
       "121849          0.0                  1                      11.0   \n",
       "121852          0.0                  0                      12.0   \n",
       "121853          1.0                  0                      11.0   \n",
       "121854          0.0                  0                      12.0   \n",
       "121855          1.0                  0                       6.0   \n",
       "\n",
       "        Cleint_City_Rating  Homephone_Tag  Car_Owned Registration_Days  \n",
       "0                      2.0              1        0.0              6123  \n",
       "5                      2.0              0        0.0              3910  \n",
       "10                     2.0              0        0.0              2933  \n",
       "11                     2.0              0        0.0              5165  \n",
       "15                     3.0              0        1.0              1145  \n",
       "...                    ...            ...        ...               ...  \n",
       "121849                 2.0              0        0.0            3773.0  \n",
       "121852                 3.0              1        0.0             902.0  \n",
       "121853                 3.0              0        0.0            3980.0  \n",
       "121854                 2.0              0        1.0             895.0  \n",
       "121855                 3.0              0        1.0            8679.0  \n",
       "\n",
       "[44075 rows x 16 columns]"
      ]
     },
     "execution_count": 140,
     "metadata": {},
     "output_type": "execute_result"
    }
   ],
   "source": [
    "X"
   ]
  },
  {
   "cell_type": "code",
   "execution_count": 141,
   "metadata": {},
   "outputs": [
    {
     "data": {
      "text/plain": [
       "0         0\n",
       "5         0\n",
       "10        0\n",
       "11        0\n",
       "15        0\n",
       "         ..\n",
       "121849    0\n",
       "121852    0\n",
       "121853    0\n",
       "121854    0\n",
       "121855    0\n",
       "Name: Default, Length: 44075, dtype: int64"
      ]
     },
     "execution_count": 141,
     "metadata": {},
     "output_type": "execute_result"
    }
   ],
   "source": [
    "Y"
   ]
  },
  {
   "cell_type": "code",
   "execution_count": 142,
   "metadata": {},
   "outputs": [
    {
     "data": {
      "text/html": [
       "<div>\n",
       "<style scoped>\n",
       "    .dataframe tbody tr th:only-of-type {\n",
       "        vertical-align: middle;\n",
       "    }\n",
       "\n",
       "    .dataframe tbody tr th {\n",
       "        vertical-align: top;\n",
       "    }\n",
       "\n",
       "    .dataframe thead th {\n",
       "        text-align: right;\n",
       "    }\n",
       "</style>\n",
       "<table border=\"1\" class=\"dataframe\">\n",
       "  <thead>\n",
       "    <tr style=\"text-align: right;\">\n",
       "      <th></th>\n",
       "      <th>Credit_Amount</th>\n",
       "      <th>Client_Income</th>\n",
       "      <th>Loan_Annuity</th>\n",
       "      <th>Age_Days</th>\n",
       "      <th>Phone_Change</th>\n",
       "      <th>ID_Days</th>\n",
       "      <th>Client_Education</th>\n",
       "      <th>Client_Gender</th>\n",
       "      <th>Client_Income_Type</th>\n",
       "      <th>Child_Count</th>\n",
       "      <th>Workphone_Working</th>\n",
       "      <th>Application_Process_Hour</th>\n",
       "      <th>Cleint_City_Rating</th>\n",
       "      <th>Homephone_Tag</th>\n",
       "      <th>Car_Owned</th>\n",
       "      <th>Registration_Days</th>\n",
       "    </tr>\n",
       "  </thead>\n",
       "  <tbody>\n",
       "    <tr>\n",
       "      <th>0</th>\n",
       "      <td>61190.55</td>\n",
       "      <td>6750</td>\n",
       "      <td>3416.85</td>\n",
       "      <td>13957</td>\n",
       "      <td>63.0</td>\n",
       "      <td>383</td>\n",
       "      <td>Secondary</td>\n",
       "      <td>Male</td>\n",
       "      <td>Commercial</td>\n",
       "      <td>0.0</td>\n",
       "      <td>0</td>\n",
       "      <td>17.0</td>\n",
       "      <td>2.0</td>\n",
       "      <td>1</td>\n",
       "      <td>0.0</td>\n",
       "      <td>6123</td>\n",
       "    </tr>\n",
       "    <tr>\n",
       "      <th>5</th>\n",
       "      <td>13752</td>\n",
       "      <td>11250</td>\n",
       "      <td>653.85</td>\n",
       "      <td>13881</td>\n",
       "      <td>739.0</td>\n",
       "      <td>3910</td>\n",
       "      <td>Secondary</td>\n",
       "      <td>Female</td>\n",
       "      <td>Service</td>\n",
       "      <td>1.0</td>\n",
       "      <td>0</td>\n",
       "      <td>10.0</td>\n",
       "      <td>2.0</td>\n",
       "      <td>0</td>\n",
       "      <td>0.0</td>\n",
       "      <td>3910</td>\n",
       "    </tr>\n",
       "    <tr>\n",
       "      <th>10</th>\n",
       "      <td>67500</td>\n",
       "      <td>27000</td>\n",
       "      <td>3375</td>\n",
       "      <td>14816</td>\n",
       "      <td>1799.0</td>\n",
       "      <td>4640</td>\n",
       "      <td>Graduation</td>\n",
       "      <td>Male</td>\n",
       "      <td>Govt Job</td>\n",
       "      <td>1.0</td>\n",
       "      <td>0</td>\n",
       "      <td>12.0</td>\n",
       "      <td>2.0</td>\n",
       "      <td>0</td>\n",
       "      <td>0.0</td>\n",
       "      <td>2933</td>\n",
       "    </tr>\n",
       "    <tr>\n",
       "      <th>11</th>\n",
       "      <td>149963.85</td>\n",
       "      <td>15750</td>\n",
       "      <td>4397.85</td>\n",
       "      <td>11318</td>\n",
       "      <td>1333.0</td>\n",
       "      <td>2155</td>\n",
       "      <td>Graduation</td>\n",
       "      <td>Male</td>\n",
       "      <td>Service</td>\n",
       "      <td>1.0</td>\n",
       "      <td>0</td>\n",
       "      <td>8.0</td>\n",
       "      <td>2.0</td>\n",
       "      <td>0</td>\n",
       "      <td>0.0</td>\n",
       "      <td>5165</td>\n",
       "    </tr>\n",
       "    <tr>\n",
       "      <th>15</th>\n",
       "      <td>105493.5</td>\n",
       "      <td>45000</td>\n",
       "      <td>4482.45</td>\n",
       "      <td>15568</td>\n",
       "      <td>713.0</td>\n",
       "      <td>4739</td>\n",
       "      <td>Secondary</td>\n",
       "      <td>Female</td>\n",
       "      <td>Commercial</td>\n",
       "      <td>1.0</td>\n",
       "      <td>0</td>\n",
       "      <td>9.0</td>\n",
       "      <td>3.0</td>\n",
       "      <td>0</td>\n",
       "      <td>1.0</td>\n",
       "      <td>1145</td>\n",
       "    </tr>\n",
       "  </tbody>\n",
       "</table>\n",
       "</div>"
      ],
      "text/plain": [
       "   Credit_Amount Client_Income Loan_Annuity Age_Days  Phone_Change ID_Days  \\\n",
       "0       61190.55          6750      3416.85    13957          63.0     383   \n",
       "5          13752         11250       653.85    13881         739.0    3910   \n",
       "10         67500         27000         3375    14816        1799.0    4640   \n",
       "11     149963.85         15750      4397.85    11318        1333.0    2155   \n",
       "15      105493.5         45000      4482.45    15568         713.0    4739   \n",
       "\n",
       "   Client_Education Client_Gender Client_Income_Type  Child_Count  \\\n",
       "0         Secondary          Male         Commercial          0.0   \n",
       "5         Secondary        Female            Service          1.0   \n",
       "10       Graduation          Male           Govt Job          1.0   \n",
       "11       Graduation          Male            Service          1.0   \n",
       "15        Secondary        Female         Commercial          1.0   \n",
       "\n",
       "    Workphone_Working  Application_Process_Hour  Cleint_City_Rating  \\\n",
       "0                   0                      17.0                 2.0   \n",
       "5                   0                      10.0                 2.0   \n",
       "10                  0                      12.0                 2.0   \n",
       "11                  0                       8.0                 2.0   \n",
       "15                  0                       9.0                 3.0   \n",
       "\n",
       "    Homephone_Tag  Car_Owned Registration_Days  \n",
       "0               1        0.0              6123  \n",
       "5               0        0.0              3910  \n",
       "10              0        0.0              2933  \n",
       "11              0        0.0              5165  \n",
       "15              0        1.0              1145  "
      ]
     },
     "execution_count": 142,
     "metadata": {},
     "output_type": "execute_result"
    }
   ],
   "source": [
    "X.head(5)"
   ]
  },
  {
   "cell_type": "markdown",
   "metadata": {},
   "source": []
  },
  {
   "cell_type": "code",
   "execution_count": 143,
   "metadata": {},
   "outputs": [
    {
     "data": {
      "text/plain": [
       "array(['Commercial', 'Service', 'Govt Job', 'Student', 'Maternity leave',\n",
       "       'Businessman'], dtype=object)"
      ]
     },
     "execution_count": 143,
     "metadata": {},
     "output_type": "execute_result"
    }
   ],
   "source": [
    "X.Client_Income_Type.unique()"
   ]
  },
  {
   "cell_type": "code",
   "execution_count": 144,
   "metadata": {},
   "outputs": [],
   "source": [
    "X['Client_Income_Type'] = [x if x in ('Commercial', 'Service', 'Govt Job') else 'Service' for x in X['Client_Income_Type']]"
   ]
  },
  {
   "cell_type": "code",
   "execution_count": 145,
   "metadata": {},
   "outputs": [
    {
     "data": {
      "image/png": "[encoded data removed]",
      "text/plain": [
       "<Figure size 432x288 with 1 Axes>"
      ]
     },
     "metadata": {
      "needs_background": "light"
     },
     "output_type": "display_data"
    }
   ],
   "source": [
    "pred_var = sns.countplot(X['Client_Income_Type'])\n",
    "pred_var.set_xticklabels(['Commercial', 'Service', 'Govt Job'])\n",
    "plt.show()"
   ]
  },
  {
   "cell_type": "code",
   "execution_count": 146,
   "metadata": {},
   "outputs": [
    {
     "data": {
      "text/plain": [
       "array(['Secondary', 'Graduation', 'Graduation dropout', 'Post Grad',\n",
       "       'Junior secondary'], dtype=object)"
      ]
     },
     "execution_count": 146,
     "metadata": {},
     "output_type": "execute_result"
    }
   ],
   "source": [
    "X.Client_Education.unique()"
   ]
  },
  {
   "cell_type": "code",
   "execution_count": 147,
   "metadata": {},
   "outputs": [
    {
     "data": {
      "image/png": "[encoded data removed]",
      "text/plain": [
       "<Figure size 1080x720 with 1 Axes>"
      ]
     },
     "metadata": {
      "needs_background": "light"
     },
     "output_type": "display_data"
    }
   ],
   "source": [
    "fig = plt.figure() \n",
    "fig.set_size_inches(15, 10)\n",
    "pred_var = sns.countplot(X['Client_Education'])\n",
    "pred_var.set_xticklabels(['Secondary', 'Graduation', 'Graduation dropout', 'Junior secondary', 'Post Grad'])\n",
    "plt.show()"
   ]
  },
  {
   "cell_type": "code",
   "execution_count": 148,
   "metadata": {},
   "outputs": [],
   "source": [
    "X['Client_Education'] = [x if x in ('Secondary', 'Graduation') else 'Other' for x in X['Client_Education']]"
   ]
  },
  {
   "cell_type": "code",
   "execution_count": 149,
   "metadata": {},
   "outputs": [
    {
     "data": {
      "image/png": "[encoded data removed]",
      "text/plain": [
       "<Figure size 1080x720 with 1 Axes>"
      ]
     },
     "metadata": {
      "needs_background": "light"
     },
     "output_type": "display_data"
    }
   ],
   "source": [
    "fig = plt.figure() \n",
    "fig.set_size_inches(15, 10)\n",
    "pred_var = sns.countplot(X['Client_Education'])\n",
    "pred_var.set_xticklabels(['Secondary', 'Graduation', 'Other'])\n",
    "plt.show()"
   ]
  },
  {
   "cell_type": "code",
   "execution_count": 150,
   "metadata": {},
   "outputs": [
    {
     "data": {
      "text/plain": [
       "array(['Male', 'Female'], dtype=object)"
      ]
     },
     "execution_count": 150,
     "metadata": {},
     "output_type": "execute_result"
    }
   ],
   "source": [
    "X.Client_Gender.unique()"
   ]
  },
  {
   "cell_type": "code",
   "execution_count": 151,
   "metadata": {},
   "outputs": [
    {
     "data": {
      "image/png": "[encoded data removed]",
      "text/plain": [
       "<Figure size 1080x720 with 1 Axes>"
      ]
     },
     "metadata": {
      "needs_background": "light"
     },
     "output_type": "display_data"
    }
   ],
   "source": [
    "fig = plt.figure() \n",
    "fig.set_size_inches(15, 10)\n",
    "pred_var = sns.countplot(X['Client_Gender'])\n",
    "pred_var.set_xticklabels(['Male', 'Female'])\n",
    "plt.show()"
   ]
  },
  {
   "cell_type": "code",
   "execution_count": 170,
   "metadata": {},
   "outputs": [
    {
     "data": {
      "text/html": [
       "<div>\n",
       "<style scoped>\n",
       "    .dataframe tbody tr th:only-of-type {\n",
       "        vertical-align: middle;\n",
       "    }\n",
       "\n",
       "    .dataframe tbody tr th {\n",
       "        vertical-align: top;\n",
       "    }\n",
       "\n",
       "    .dataframe thead th {\n",
       "        text-align: right;\n",
       "    }\n",
       "</style>\n",
       "<table border=\"1\" class=\"dataframe\">\n",
       "  <thead>\n",
       "    <tr style=\"text-align: right;\">\n",
       "      <th></th>\n",
       "      <th>Credit_Amount</th>\n",
       "      <th>Client_Income</th>\n",
       "      <th>Loan_Annuity</th>\n",
       "      <th>Age_Days</th>\n",
       "      <th>Phone_Change</th>\n",
       "      <th>ID_Days</th>\n",
       "      <th>Client_Education</th>\n",
       "      <th>Client_Gender</th>\n",
       "      <th>Client_Income_Type</th>\n",
       "      <th>Child_Count</th>\n",
       "      <th>Workphone_Working</th>\n",
       "      <th>Application_Process_Hour</th>\n",
       "      <th>Cleint_City_Rating</th>\n",
       "      <th>Homephone_Tag</th>\n",
       "      <th>Car_Owned</th>\n",
       "      <th>Registration_Days</th>\n",
       "    </tr>\n",
       "  </thead>\n",
       "  <tbody>\n",
       "    <tr>\n",
       "      <th>0</th>\n",
       "      <td>61190.55</td>\n",
       "      <td>6750</td>\n",
       "      <td>3416.85</td>\n",
       "      <td>13957</td>\n",
       "      <td>63.0</td>\n",
       "      <td>383</td>\n",
       "      <td>Secondary</td>\n",
       "      <td>Male</td>\n",
       "      <td>Commercial</td>\n",
       "      <td>0.0</td>\n",
       "      <td>0</td>\n",
       "      <td>17.0</td>\n",
       "      <td>2.0</td>\n",
       "      <td>1</td>\n",
       "      <td>0.0</td>\n",
       "      <td>6123</td>\n",
       "    </tr>\n",
       "    <tr>\n",
       "      <th>5</th>\n",
       "      <td>13752</td>\n",
       "      <td>11250</td>\n",
       "      <td>653.85</td>\n",
       "      <td>13881</td>\n",
       "      <td>739.0</td>\n",
       "      <td>3910</td>\n",
       "      <td>Secondary</td>\n",
       "      <td>Female</td>\n",
       "      <td>Service</td>\n",
       "      <td>1.0</td>\n",
       "      <td>0</td>\n",
       "      <td>10.0</td>\n",
       "      <td>2.0</td>\n",
       "      <td>0</td>\n",
       "      <td>0.0</td>\n",
       "      <td>3910</td>\n",
       "    </tr>\n",
       "    <tr>\n",
       "      <th>10</th>\n",
       "      <td>67500</td>\n",
       "      <td>27000</td>\n",
       "      <td>3375</td>\n",
       "      <td>14816</td>\n",
       "      <td>1799.0</td>\n",
       "      <td>4640</td>\n",
       "      <td>Graduation</td>\n",
       "      <td>Male</td>\n",
       "      <td>Govt Job</td>\n",
       "      <td>1.0</td>\n",
       "      <td>0</td>\n",
       "      <td>12.0</td>\n",
       "      <td>2.0</td>\n",
       "      <td>0</td>\n",
       "      <td>0.0</td>\n",
       "      <td>2933</td>\n",
       "    </tr>\n",
       "    <tr>\n",
       "      <th>11</th>\n",
       "      <td>149963.85</td>\n",
       "      <td>15750</td>\n",
       "      <td>4397.85</td>\n",
       "      <td>11318</td>\n",
       "      <td>1333.0</td>\n",
       "      <td>2155</td>\n",
       "      <td>Graduation</td>\n",
       "      <td>Male</td>\n",
       "      <td>Service</td>\n",
       "      <td>1.0</td>\n",
       "      <td>0</td>\n",
       "      <td>8.0</td>\n",
       "      <td>2.0</td>\n",
       "      <td>0</td>\n",
       "      <td>0.0</td>\n",
       "      <td>5165</td>\n",
       "    </tr>\n",
       "    <tr>\n",
       "      <th>15</th>\n",
       "      <td>105493.5</td>\n",
       "      <td>45000</td>\n",
       "      <td>4482.45</td>\n",
       "      <td>15568</td>\n",
       "      <td>713.0</td>\n",
       "      <td>4739</td>\n",
       "      <td>Secondary</td>\n",
       "      <td>Female</td>\n",
       "      <td>Commercial</td>\n",
       "      <td>1.0</td>\n",
       "      <td>0</td>\n",
       "      <td>9.0</td>\n",
       "      <td>3.0</td>\n",
       "      <td>0</td>\n",
       "      <td>1.0</td>\n",
       "      <td>1145</td>\n",
       "    </tr>\n",
       "  </tbody>\n",
       "</table>\n",
       "</div>"
      ],
      "text/plain": [
       "   Credit_Amount Client_Income Loan_Annuity Age_Days  Phone_Change ID_Days  \\\n",
       "0       61190.55          6750      3416.85    13957          63.0     383   \n",
       "5          13752         11250       653.85    13881         739.0    3910   \n",
       "10         67500         27000         3375    14816        1799.0    4640   \n",
       "11     149963.85         15750      4397.85    11318        1333.0    2155   \n",
       "15      105493.5         45000      4482.45    15568         713.0    4739   \n",
       "\n",
       "   Client_Education Client_Gender Client_Income_Type  Child_Count  \\\n",
       "0         Secondary          Male         Commercial          0.0   \n",
       "5         Secondary        Female            Service          1.0   \n",
       "10       Graduation          Male           Govt Job          1.0   \n",
       "11       Graduation          Male            Service          1.0   \n",
       "15        Secondary        Female         Commercial          1.0   \n",
       "\n",
       "    Workphone_Working  Application_Process_Hour  Cleint_City_Rating  \\\n",
       "0                   0                      17.0                 2.0   \n",
       "5                   0                      10.0                 2.0   \n",
       "10                  0                      12.0                 2.0   \n",
       "11                  0                       8.0                 2.0   \n",
       "15                  0                       9.0                 3.0   \n",
       "\n",
       "    Homephone_Tag  Car_Owned Registration_Days  \n",
       "0               1        0.0              6123  \n",
       "5               0        0.0              3910  \n",
       "10              0        0.0              2933  \n",
       "11              0        0.0              5165  \n",
       "15              0        1.0              1145  "
      ]
     },
     "execution_count": 170,
     "metadata": {},
     "output_type": "execute_result"
    }
   ],
   "source": [
    "X.head(5)"
   ]
  },
  {
   "cell_type": "code",
   "execution_count": 153,
   "metadata": {},
   "outputs": [],
   "source": [
    "numeric_list = []"
   ]
  },
  {
   "cell_type": "code",
   "execution_count": 154,
   "metadata": {},
   "outputs": [],
   "source": [
    "x_cols = X.columns"
   ]
  },
  {
   "cell_type": "code",
   "execution_count": 155,
   "metadata": {},
   "outputs": [],
   "source": [
    "for x in X:\n",
    "    if x in x_cols:\n",
    "        X[x] = pd.to_numeric(X[x],errors = 'coerce')\n",
    "        numeric_list.append(x)"
   ]
  },
  {
   "cell_type": "code",
   "execution_count": 156,
   "metadata": {},
   "outputs": [],
   "source": [
    "# def clean_dataset(df):\n",
    "#     assert isinstance(df, pd.DataFrame), \"df needs to be a pd.DataFrame\"\n",
    "#     df.dropna(inplace=True)\n",
    "#     indices_to_keep = ~df.isin([np.inf, -np.inf]).any(1)\n",
    "#     return df[indices_to_keep].astype(np.float64)"
   ]
  },
  {
   "cell_type": "code",
   "execution_count": 168,
   "metadata": {},
   "outputs": [],
   "source": [
    "# X.replace([np.inf, -np.inf], np.nan, inplace=True)\n",
    "# X = X.values.astype(np.longlong)"
   ]
  },
  {
   "cell_type": "code",
   "execution_count": 166,
   "metadata": {},
   "outputs": [],
   "source": [
    "# bestfeatures = SelectKBest(score_func=chi2, k=10)\n",
    "# fit = bestfeatures.fit(X,Y)\n",
    "# dfscores = pd.DataFrame(fit.scores_)\n",
    "# dfcolumns = pd.DataFrame(X.columns)\n",
    "# #concat two dataframes for better visualization \n",
    "# featureScores = pd.concat([dfcolumns,dfscores],axis=1)\n",
    "# featureScores.columns = ['Specs','Score']  #naming the dataframe columns\n",
    "# topfeatures=featureScores.nlargest(20,'Score')\n",
    "# # print(featureScores.nlargest(20,'Score'))  #print 10 best features"
   ]
  },
  {
   "cell_type": "code",
   "execution_count": 201,
   "metadata": {},
   "outputs": [
    {
     "data": {
      "text/html": [
       "<div>\n",
       "<style scoped>\n",
       "    .dataframe tbody tr th:only-of-type {\n",
       "        vertical-align: middle;\n",
       "    }\n",
       "\n",
       "    .dataframe tbody tr th {\n",
       "        vertical-align: top;\n",
       "    }\n",
       "\n",
       "    .dataframe thead th {\n",
       "        text-align: right;\n",
       "    }\n",
       "</style>\n",
       "<table border=\"1\" class=\"dataframe\">\n",
       "  <thead>\n",
       "    <tr style=\"text-align: right;\">\n",
       "      <th></th>\n",
       "      <th>Credit_Amount</th>\n",
       "      <th>Client_Income</th>\n",
       "      <th>Loan_Annuity</th>\n",
       "      <th>Age_Days</th>\n",
       "      <th>Phone_Change</th>\n",
       "      <th>ID_Days</th>\n",
       "      <th>Client_Education</th>\n",
       "      <th>Client_Gender</th>\n",
       "      <th>Client_Income_Type</th>\n",
       "      <th>Child_Count</th>\n",
       "      <th>Workphone_Working</th>\n",
       "      <th>Application_Process_Hour</th>\n",
       "      <th>Cleint_City_Rating</th>\n",
       "      <th>Homephone_Tag</th>\n",
       "      <th>Car_Owned</th>\n",
       "      <th>Registration_Days</th>\n",
       "    </tr>\n",
       "  </thead>\n",
       "  <tbody>\n",
       "    <tr>\n",
       "      <th>0</th>\n",
       "      <td>61190.55</td>\n",
       "      <td>6750</td>\n",
       "      <td>3416.85</td>\n",
       "      <td>13957</td>\n",
       "      <td>63.0</td>\n",
       "      <td>383</td>\n",
       "      <td>Secondary</td>\n",
       "      <td>Male</td>\n",
       "      <td>Commercial</td>\n",
       "      <td>0.0</td>\n",
       "      <td>0</td>\n",
       "      <td>17.0</td>\n",
       "      <td>2.0</td>\n",
       "      <td>1</td>\n",
       "      <td>0.0</td>\n",
       "      <td>6123</td>\n",
       "    </tr>\n",
       "    <tr>\n",
       "      <th>5</th>\n",
       "      <td>13752</td>\n",
       "      <td>11250</td>\n",
       "      <td>653.85</td>\n",
       "      <td>13881</td>\n",
       "      <td>739.0</td>\n",
       "      <td>3910</td>\n",
       "      <td>Secondary</td>\n",
       "      <td>Female</td>\n",
       "      <td>Service</td>\n",
       "      <td>1.0</td>\n",
       "      <td>0</td>\n",
       "      <td>10.0</td>\n",
       "      <td>2.0</td>\n",
       "      <td>0</td>\n",
       "      <td>0.0</td>\n",
       "      <td>3910</td>\n",
       "    </tr>\n",
       "    <tr>\n",
       "      <th>10</th>\n",
       "      <td>67500</td>\n",
       "      <td>27000</td>\n",
       "      <td>3375</td>\n",
       "      <td>14816</td>\n",
       "      <td>1799.0</td>\n",
       "      <td>4640</td>\n",
       "      <td>Graduation</td>\n",
       "      <td>Male</td>\n",
       "      <td>Govt Job</td>\n",
       "      <td>1.0</td>\n",
       "      <td>0</td>\n",
       "      <td>12.0</td>\n",
       "      <td>2.0</td>\n",
       "      <td>0</td>\n",
       "      <td>0.0</td>\n",
       "      <td>2933</td>\n",
       "    </tr>\n",
       "    <tr>\n",
       "      <th>11</th>\n",
       "      <td>149963.85</td>\n",
       "      <td>15750</td>\n",
       "      <td>4397.85</td>\n",
       "      <td>11318</td>\n",
       "      <td>1333.0</td>\n",
       "      <td>2155</td>\n",
       "      <td>Graduation</td>\n",
       "      <td>Male</td>\n",
       "      <td>Service</td>\n",
       "      <td>1.0</td>\n",
       "      <td>0</td>\n",
       "      <td>8.0</td>\n",
       "      <td>2.0</td>\n",
       "      <td>0</td>\n",
       "      <td>0.0</td>\n",
       "      <td>5165</td>\n",
       "    </tr>\n",
       "    <tr>\n",
       "      <th>15</th>\n",
       "      <td>105493.5</td>\n",
       "      <td>45000</td>\n",
       "      <td>4482.45</td>\n",
       "      <td>15568</td>\n",
       "      <td>713.0</td>\n",
       "      <td>4739</td>\n",
       "      <td>Secondary</td>\n",
       "      <td>Female</td>\n",
       "      <td>Commercial</td>\n",
       "      <td>1.0</td>\n",
       "      <td>0</td>\n",
       "      <td>9.0</td>\n",
       "      <td>3.0</td>\n",
       "      <td>0</td>\n",
       "      <td>1.0</td>\n",
       "      <td>1145</td>\n",
       "    </tr>\n",
       "    <tr>\n",
       "      <th>...</th>\n",
       "      <td>...</td>\n",
       "      <td>...</td>\n",
       "      <td>...</td>\n",
       "      <td>...</td>\n",
       "      <td>...</td>\n",
       "      <td>...</td>\n",
       "      <td>...</td>\n",
       "      <td>...</td>\n",
       "      <td>...</td>\n",
       "      <td>...</td>\n",
       "      <td>...</td>\n",
       "      <td>...</td>\n",
       "      <td>...</td>\n",
       "      <td>...</td>\n",
       "      <td>...</td>\n",
       "      <td>...</td>\n",
       "    </tr>\n",
       "    <tr>\n",
       "      <th>121849</th>\n",
       "      <td>18792.9</td>\n",
       "      <td>10350</td>\n",
       "      <td>1736.55</td>\n",
       "      <td>9204.0</td>\n",
       "      <td>774.0</td>\n",
       "      <td>1874.0</td>\n",
       "      <td>Graduation dropout</td>\n",
       "      <td>Male</td>\n",
       "      <td>Service</td>\n",
       "      <td>0.0</td>\n",
       "      <td>1</td>\n",
       "      <td>11.0</td>\n",
       "      <td>2.0</td>\n",
       "      <td>0</td>\n",
       "      <td>0.0</td>\n",
       "      <td>3773.0</td>\n",
       "    </tr>\n",
       "    <tr>\n",
       "      <th>121852</th>\n",
       "      <td>104256</td>\n",
       "      <td>15750</td>\n",
       "      <td>3388.05</td>\n",
       "      <td>8648.0</td>\n",
       "      <td>4.0</td>\n",
       "      <td>1209.0</td>\n",
       "      <td>Graduation</td>\n",
       "      <td>Female</td>\n",
       "      <td>Commercial</td>\n",
       "      <td>0.0</td>\n",
       "      <td>0</td>\n",
       "      <td>12.0</td>\n",
       "      <td>3.0</td>\n",
       "      <td>1</td>\n",
       "      <td>0.0</td>\n",
       "      <td>902.0</td>\n",
       "    </tr>\n",
       "    <tr>\n",
       "      <th>121853</th>\n",
       "      <td>55107.9</td>\n",
       "      <td>8100</td>\n",
       "      <td>2989.35</td>\n",
       "      <td>9152.0</td>\n",
       "      <td>0.0</td>\n",
       "      <td>353.0</td>\n",
       "      <td>Secondary</td>\n",
       "      <td>Male</td>\n",
       "      <td>Govt Job</td>\n",
       "      <td>1.0</td>\n",
       "      <td>0</td>\n",
       "      <td>11.0</td>\n",
       "      <td>3.0</td>\n",
       "      <td>0</td>\n",
       "      <td>0.0</td>\n",
       "      <td>3980.0</td>\n",
       "    </tr>\n",
       "    <tr>\n",
       "      <th>121854</th>\n",
       "      <td>45000</td>\n",
       "      <td>38250</td>\n",
       "      <td>2719.35</td>\n",
       "      <td>10290.0</td>\n",
       "      <td>0.0</td>\n",
       "      <td>2902.0</td>\n",
       "      <td>Graduation</td>\n",
       "      <td>Female</td>\n",
       "      <td>Service</td>\n",
       "      <td>0.0</td>\n",
       "      <td>0</td>\n",
       "      <td>12.0</td>\n",
       "      <td>2.0</td>\n",
       "      <td>0</td>\n",
       "      <td>1.0</td>\n",
       "      <td>895.0</td>\n",
       "    </tr>\n",
       "    <tr>\n",
       "      <th>121855</th>\n",
       "      <td>62428.95</td>\n",
       "      <td>9000</td>\n",
       "      <td>4201.65</td>\n",
       "      <td>14772.0</td>\n",
       "      <td>805.0</td>\n",
       "      <td>5025.0</td>\n",
       "      <td>Secondary</td>\n",
       "      <td>Male</td>\n",
       "      <td>Commercial</td>\n",
       "      <td>1.0</td>\n",
       "      <td>0</td>\n",
       "      <td>6.0</td>\n",
       "      <td>3.0</td>\n",
       "      <td>0</td>\n",
       "      <td>1.0</td>\n",
       "      <td>8679.0</td>\n",
       "    </tr>\n",
       "  </tbody>\n",
       "</table>\n",
       "<p>44075 rows × 16 columns</p>\n",
       "</div>"
      ],
      "text/plain": [
       "       Credit_Amount Client_Income Loan_Annuity Age_Days  Phone_Change  \\\n",
       "0           61190.55          6750      3416.85    13957          63.0   \n",
       "5              13752         11250       653.85    13881         739.0   \n",
       "10             67500         27000         3375    14816        1799.0   \n",
       "11         149963.85         15750      4397.85    11318        1333.0   \n",
       "15          105493.5         45000      4482.45    15568         713.0   \n",
       "...              ...           ...          ...      ...           ...   \n",
       "121849       18792.9         10350      1736.55   9204.0         774.0   \n",
       "121852        104256         15750      3388.05   8648.0           4.0   \n",
       "121853       55107.9          8100      2989.35   9152.0           0.0   \n",
       "121854         45000         38250      2719.35  10290.0           0.0   \n",
       "121855      62428.95          9000      4201.65  14772.0         805.0   \n",
       "\n",
       "       ID_Days    Client_Education Client_Gender Client_Income_Type  \\\n",
       "0          383           Secondary          Male         Commercial   \n",
       "5         3910           Secondary        Female            Service   \n",
       "10        4640          Graduation          Male           Govt Job   \n",
       "11        2155          Graduation          Male            Service   \n",
       "15        4739           Secondary        Female         Commercial   \n",
       "...        ...                 ...           ...                ...   \n",
       "121849  1874.0  Graduation dropout          Male            Service   \n",
       "121852  1209.0          Graduation        Female         Commercial   \n",
       "121853   353.0           Secondary          Male           Govt Job   \n",
       "121854  2902.0          Graduation        Female            Service   \n",
       "121855  5025.0           Secondary          Male         Commercial   \n",
       "\n",
       "        Child_Count  Workphone_Working  Application_Process_Hour  \\\n",
       "0               0.0                  0                      17.0   \n",
       "5               1.0                  0                      10.0   \n",
       "10              1.0                  0                      12.0   \n",
       "11              1.0                  0                       8.0   \n",
       "15              1.0                  0                       9.0   \n",
       "...             ...                ...                       ...   \n",
       "121849          0.0                  1                      11.0   \n",
       "121852          0.0                  0                      12.0   \n",
       "121853          1.0                  0                      11.0   \n",
       "121854          0.0                  0                      12.0   \n",
       "121855          1.0                  0                       6.0   \n",
       "\n",
       "        Cleint_City_Rating  Homephone_Tag  Car_Owned Registration_Days  \n",
       "0                      2.0              1        0.0              6123  \n",
       "5                      2.0              0        0.0              3910  \n",
       "10                     2.0              0        0.0              2933  \n",
       "11                     2.0              0        0.0              5165  \n",
       "15                     3.0              0        1.0              1145  \n",
       "...                    ...            ...        ...               ...  \n",
       "121849                 2.0              0        0.0            3773.0  \n",
       "121852                 3.0              1        0.0             902.0  \n",
       "121853                 3.0              0        0.0            3980.0  \n",
       "121854                 2.0              0        1.0             895.0  \n",
       "121855                 3.0              0        1.0            8679.0  \n",
       "\n",
       "[44075 rows x 16 columns]"
      ]
     },
     "execution_count": 201,
     "metadata": {},
     "output_type": "execute_result"
    }
   ],
   "source": [
    "X"
   ]
  },
  {
   "cell_type": "code",
   "execution_count": 203,
   "metadata": {},
   "outputs": [],
   "source": [
    "from sklearn.compose import ColumnTransformer\n",
    "from sklearn.preprocessing import OneHotEncoder\n",
    "transform = ColumnTransformer(transformers=[('encoder', OneHotEncoder(), [6,7,8])], remainder='passthrough')\n",
    "X = np.array(transform.fit_transform(X))\n"
   ]
  },
  {
   "cell_type": "code",
   "execution_count": 216,
   "metadata": {},
   "outputs": [],
   "source": [
    "from sklearn.model_selection import train_test_split\n",
    "x_train,x_test,y_train,y_test = train_test_split(X,Y, test_size=0.35,random_state=1000)"
   ]
  },
  {
   "cell_type": "code",
   "execution_count": 217,
   "metadata": {},
   "outputs": [
    {
     "data": {
      "text/plain": [
       "(28648, 26)"
      ]
     },
     "execution_count": 217,
     "metadata": {},
     "output_type": "execute_result"
    }
   ],
   "source": [
    "x_train.shape"
   ]
  },
  {
   "cell_type": "code",
   "execution_count": 218,
   "metadata": {},
   "outputs": [
    {
     "data": {
      "text/plain": [
       "(15427, 26)"
      ]
     },
     "execution_count": 218,
     "metadata": {},
     "output_type": "execute_result"
    }
   ],
   "source": [
    "x_test.shape"
   ]
  },
  {
   "cell_type": "code",
   "execution_count": 219,
   "metadata": {},
   "outputs": [
    {
     "data": {
      "text/plain": [
       "LogisticRegression()"
      ]
     },
     "execution_count": 219,
     "metadata": {},
     "output_type": "execute_result"
    }
   ],
   "source": [
    "from sklearn.linear_model import LogisticRegression\n",
    "\n",
    "logistic_model = LogisticRegression()\n",
    "logistic_model.fit(x_train,y_train)"
   ]
  },
  {
   "cell_type": "code",
   "execution_count": 220,
   "metadata": {},
   "outputs": [
    {
     "name": "stdout",
     "output_type": "stream",
     "text": [
      "Accuracy on training set: 0.9124546216140743\n"
     ]
    }
   ],
   "source": [
    "print(\"Accuracy on training set:\", logistic_model.score(x_train , y_train))"
   ]
  },
  {
   "cell_type": "code",
   "execution_count": 221,
   "metadata": {},
   "outputs": [
    {
     "name": "stdout",
     "output_type": "stream",
     "text": [
      "Accuracy on test set: 0.9157321579049718\n"
     ]
    }
   ],
   "source": [
    "print(\"Accuracy on test set:\", logistic_model.score(x_test , y_test))"
   ]
  },
  {
   "cell_type": "code",
   "execution_count": 222,
   "metadata": {},
   "outputs": [],
   "source": [
    "\n",
    "classes = ['Not Default' , 'Default']\n",
    "\n",
    "def plot_confusionmatrix(pred , test, dom):\n",
    "\n",
    "    print(f'{dom} Confusion matrix')\n",
    "\n",
    "    cf = confusion_matrix(pred  , test)\n",
    "\n",
    "    sns.heatmap(cf , annot = True , yticklabels = classes , xticklabels = classes , cmap = 'Blues' , fmt = 'g' )\n",
    "\n",
    "    plt.tight_layout()\n",
    "\n",
    "    plt.show() "
   ]
  },
  {
   "cell_type": "code",
   "execution_count": 223,
   "metadata": {},
   "outputs": [
    {
     "name": "stdout",
     "output_type": "stream",
     "text": [
      "Test Confusion matrix\n"
     ]
    },
    {
     "data": {
      "image/png": "[encoded data removed]",
      "text/plain": [
       "<Figure size 432x288 with 2 Axes>"
      ]
     },
     "metadata": {
      "needs_background": "light"
     },
     "output_type": "display_data"
    }
   ],
   "source": [
    "prediction_test = logistic_model.predict(x_test)\n",
    "\n",
    "plot_confusionmatrix(y_test , prediction_test , dom = 'Test' )"
   ]
  },
  {
   "cell_type": "code",
   "execution_count": 224,
   "metadata": {},
   "outputs": [],
   "source": [
    "prediction_train = logistic_model.predict(x_train)"
   ]
  },
  {
   "cell_type": "code",
   "execution_count": 225,
   "metadata": {},
   "outputs": [
    {
     "name": "stdout",
     "output_type": "stream",
     "text": [
      "Mean absolute error: 0.09\n",
      "Residual sum of squares (MSE): 0.09\n",
      "R2-score: 0.000000000\n"
     ]
    }
   ],
   "source": [
    "from sklearn.metrics import r2_score\n",
    "\n",
    "print(\"Mean absolute error: %.2f\" % np.mean(np.absolute(prediction_train - y_train)))\n",
    "print(\"Residual sum of squares (MSE): %.2f\" % np.mean((prediction_train - y_train) ** 2))\n",
    "print(\"R2-score: %.9f\" % r2_score(prediction_train , y_train) )"
   ]
  },
  {
   "cell_type": "code",
   "execution_count": 226,
   "metadata": {},
   "outputs": [
    {
     "name": "stdout",
     "output_type": "stream",
     "text": [
      "Train Confusion matrix\n"
     ]
    },
    {
     "data": {
      "image/png": "[encoded data removed]",
      "text/plain": [
       "<Figure size 432x288 with 2 Axes>"
      ]
     },
     "metadata": {
      "needs_background": "light"
     },
     "output_type": "display_data"
    }
   ],
   "source": [
    "plot_confusionmatrix(y_train , prediction_train , dom = 'Train' )"
   ]
  }
 ],
 "metadata": {
  "kernelspec": {
   "display_name": "Python 3.7.13 ('venv1')",
   "language": "python",
   "name": "python3"
  },
  "language_info": {
   "codemirror_mode": {
    "name": "ipython",
    "version": 3
   },
   "file_extension": ".py",
   "mimetype": "text/x-python",
   "name": "python",
   "nbconvert_exporter": "python",
   "pygments_lexer": "ipython3",
   "version": "3.7.13"
  },
  "orig_nbformat": 4,
  "vscode": {
   "interpreter": {
    "hash": "7dd44b895647408b3556bbb6d2e497ee963cf27b91ecd8eeda7f7fe3d4b66ee1"
   }
  }
 },
 "nbformat": 4,
 "nbformat_minor": 2
}
