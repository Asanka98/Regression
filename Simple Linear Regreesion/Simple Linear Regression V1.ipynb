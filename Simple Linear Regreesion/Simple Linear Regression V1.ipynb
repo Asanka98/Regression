{
 "cells": [
  {
   "cell_type": "code",
   "execution_count": 160,
   "metadata": {},
   "outputs": [],
   "source": [
    "import matplotlib\n",
    "import numpy as np\n",
    "import matplotlib.pyplot as plt\n",
    "import math, copy\n",
    "import seaborn as sns"
   ]
  },
  {
   "cell_type": "code",
   "execution_count": 161,
   "metadata": {},
   "outputs": [
    {
     "data": {
      "text/plain": [
       "array([ 0,  1,  2,  3,  4,  5,  6,  7,  8,  9, 10])"
      ]
     },
     "execution_count": 161,
     "metadata": {},
     "output_type": "execute_result"
    }
   ],
   "source": [
    "X = np.array([0,1,2,3,4,5,6,7,8,9,10])\n",
    "X"
   ]
  },
  {
   "cell_type": "code",
   "execution_count": 162,
   "metadata": {},
   "outputs": [
    {
     "data": {
      "text/plain": [
       "array([22, 25, 27, 29, 32, 35, 37, 39, 42, 45, 46])"
      ]
     },
     "execution_count": 162,
     "metadata": {},
     "output_type": "execute_result"
    }
   ],
   "source": [
    "Y = np.array([22,25,27,29,32,35,37,39,42,45,46])\n",
    "Y"
   ]
  },
  {
   "cell_type": "code",
   "execution_count": 163,
   "metadata": {},
   "outputs": [
    {
     "data": {
      "text/plain": [
       "<matplotlib.collections.PathCollection at 0x19f49b97d88>"
      ]
     },
     "execution_count": 163,
     "metadata": {},
     "output_type": "execute_result"
    },
    {
     "data": {
      "image/png": "[encoded data removed]",
      "text/plain": [
       "<Figure size 432x288 with 1 Axes>"
      ]
     },
     "metadata": {
      "needs_background": "light"
     },
     "output_type": "display_data"
    }
   ],
   "source": [
    "plt.scatter(X, Y, marker='+', c='g')"
   ]
  },
  {
   "cell_type": "code",
   "execution_count": 164,
   "metadata": {},
   "outputs": [
    {
     "data": {
      "image/png": "[encoded data removed]",
      "text/plain": [
       "<Figure size 432x288 with 1 Axes>"
      ]
     },
     "metadata": {
      "needs_background": "light"
     },
     "output_type": "display_data"
    }
   ],
   "source": [
    "w = 2.5\n",
    "b = 21.8\n",
    "y_hat = w * X + b\n",
    "plt.plot(X, y_hat, c = 'r', label='Our Prediction')\n",
    "plt.scatter(X, Y, marker='+', c='b', label = 'Actual Values')\n",
    "plt.show()"
   ]
  },
  {
   "cell_type": "markdown",
   "metadata": {},
   "source": [
    "## Manual Cost Calculation with definec W and B\n",
    "\n",
    " $$ cost, J(w,b) = \\frac{1}{2m} x^{(i)},y^{(i)}  $$ \n",
    " $$ J(w,b) = \\frac{1}{2m}\\ \\sum\\limits_{i = 0}^{m} (f_{w,b}(x^{(i)}) - y^{(i)})^2\\tag{2} $$\n"
   ]
  },
  {
   "cell_type": "code",
   "execution_count": 165,
   "metadata": {},
   "outputs": [],
   "source": [
    "def cost_function(X, Y, w, b):\n",
    "\n",
    "    cost = 0\n",
    "\n",
    "    m = X.shape[0]\n",
    "\n",
    "    for i in range(m):\n",
    "\n",
    "        y_wb = w * X[i] + b\n",
    "\n",
    "        cost_i = ( y_wb - Y[i] ) ** 2\n",
    "        \n",
    "        cost += cost_i\n",
    "\n",
    "    return cost / ( 2 * m )"
   ]
  },
  {
   "cell_type": "code",
   "execution_count": 166,
   "metadata": {},
   "outputs": [
    {
     "name": "stdout",
     "output_type": "stream",
     "text": [
      "overall cost : 0.11318181818181831\n"
     ]
    }
   ],
   "source": [
    "print(\"overall cost : \"+ str(cost_function(X, Y, 2.5, 21.8)))"
   ]
  },
  {
   "cell_type": "markdown",
   "metadata": {},
   "source": [
    "# to implement below function having knowledge in deravatives is not mandatory"
   ]
  },
  {
   "cell_type": "code",
   "execution_count": 167,
   "metadata": {},
   "outputs": [],
   "source": [
    "def compute_gradient(X, Y, w, b):\n",
    "\n",
    "    m = X.shape[0]  \n",
    "\n",
    "    dj_dw = 0\n",
    "\n",
    "    dj_db = 0\n",
    "\n",
    "    for i in range(m):  \n",
    "\n",
    "        f_wb = w * X[i] + b \n",
    "\n",
    "        dj_dw_i = (f_wb - Y[i]) * X[i] \n",
    "\n",
    "        dj_db_i = f_wb - Y[i] \n",
    "\n",
    "        dj_db += dj_db_i\n",
    "\n",
    "        dj_dw += dj_dw_i \n",
    "        \n",
    "    dj_dw = dj_dw / m \n",
    "    \n",
    "    dj_db = dj_db / m \n",
    "        \n",
    "    return dj_dw, dj_db"
   ]
  },
  {
   "cell_type": "code",
   "execution_count": 168,
   "metadata": {},
   "outputs": [
    {
     "name": "stdout",
     "output_type": "stream",
     "text": [
      "dj_dw :  -0.31818181818182917 | dj_db -0.15454545454545576\n"
     ]
    }
   ],
   "source": [
    "dj_dw, dj_db = compute_gradient(X, Y, w, b)\n",
    "print(\"dj_dw : \", dj_dw, \"| dj_db\", dj_db)"
   ]
  },
  {
   "cell_type": "markdown",
   "metadata": {},
   "source": [
    "<a name=\"toc_40291_2.1\"></a>\n",
    "## Gradient descent \n",
    "$$f_{w,b}(x^{(i)}) = wx^{(i)} + b \\tag{1}$$\n",
    "In linear regression, you utilize input training data to fit the parameters $w$,$b$ by minimizing a measure of the error between our predictions $f_{w,b}(x^{(i)})$ and the actual data $y^{(i)}$. The measure is called the $cost$, $J(w,b)$. In training you measure the cost over all of our training samples $x^{(i)},y^{(i)}$\n",
    "$$J(w,b) = \\frac{1}{2m} \\sum\\limits_{i = 0}^{m-1} (f_{w,b}(x^{(i)}) - y^{(i)})^2\\tag{2}$$ "
   ]
  },
  {
   "cell_type": "code",
   "execution_count": 169,
   "metadata": {},
   "outputs": [],
   "source": [
    "def gradient_descent(X, Y,  w_in, b_in, learning_rate, num_iters, compute_gradient, cost_function):\n",
    "\n",
    "    w = copy.deepcopy(w_in) # avoid modifying global w_in\n",
    "\n",
    "    cost_history = []\n",
    "    param_history = []\n",
    "    b = b_in\n",
    "    w = w_in\n",
    "    \n",
    "    for i in range(num_iters):\n",
    "        dj_dw, dj_db = compute_gradient(X, Y, w, b)\n",
    "\n",
    "        w = w - learning_rate * dj_dw\n",
    "        b = b - learning_rate * dj_db\n",
    "\n",
    "        if i<100000: \n",
    "            cost_history.append( cost_function(X, Y, w , b))\n",
    "            param_history.append([w,b])\n",
    "            \n",
    "        if i% math.ceil(num_iters/10) == 0:\n",
    "\n",
    "            print(  f\" Iteration {i:4}: Cost {cost_history[-1]:0.2e} \",\n",
    "                    f\" dj_dw: {dj_dw: 0.3e}, dj_db: {dj_db: 0.3e}  \",\n",
    "                    f\" w: {w: 0.3e}, b:{b: 0.5e}\")\n",
    "\n",
    "    return w, b, cost_history, param_history \n",
    "\n",
    "\n",
    "\n"
   ]
  },
  {
   "cell_type": "code",
   "execution_count": 170,
   "metadata": {},
   "outputs": [
    {
     "name": "stdout",
     "output_type": "stream",
     "text": [
      " Iteration    0: Cost 8.31e+05   dj_dw:  1.180e+04, dj_db:  1.766e+03    w:  1.820e+02, b: 2.82345e+02\n",
      " Iteration 100000: Cost 9.09e-02   dj_dw: -1.970e-14, dj_db:  1.773e-13    w:  2.455e+00, b: 2.21818e+01\n",
      " Iteration 200000: Cost 9.09e-02   dj_dw: -1.970e-14, dj_db:  1.773e-13    w:  2.455e+00, b: 2.21818e+01\n",
      " Iteration 300000: Cost 9.09e-02   dj_dw: -1.970e-14, dj_db:  1.773e-13    w:  2.455e+00, b: 2.21818e+01\n",
      " Iteration 400000: Cost 9.09e-02   dj_dw: -1.970e-14, dj_db:  1.773e-13    w:  2.455e+00, b: 2.21818e+01\n",
      " Iteration 500000: Cost 9.09e-02   dj_dw: -1.970e-14, dj_db:  1.773e-13    w:  2.455e+00, b: 2.21818e+01\n",
      " Iteration 600000: Cost 9.09e-02   dj_dw: -1.970e-14, dj_db:  1.773e-13    w:  2.455e+00, b: 2.21818e+01\n",
      " Iteration 700000: Cost 9.09e-02   dj_dw: -1.970e-14, dj_db:  1.773e-13    w:  2.455e+00, b: 2.21818e+01\n",
      " Iteration 800000: Cost 9.09e-02   dj_dw: -1.970e-14, dj_db:  1.773e-13    w:  2.455e+00, b: 2.21818e+01\n",
      " Iteration 900000: Cost 9.09e-02   dj_dw: -1.970e-14, dj_db:  1.773e-13    w:  2.455e+00, b: 2.21818e+01\n"
     ]
    }
   ],
   "source": [
    "w_initial = 300\n",
    "b_initial = 200\n",
    "learning_rate = 0.01\n",
    "num_iters = 1000000\n",
    "w_, b_, cost_history, param_history  = gradient_descent(X, Y,  w_initial, w_initial, learning_rate, num_iters, compute_gradient, cost_function)\n"
   ]
  },
  {
   "cell_type": "code",
   "execution_count": 171,
   "metadata": {},
   "outputs": [
    {
     "data": {
      "text/plain": [
       "Text(0, 0.5, '')"
      ]
     },
     "execution_count": 171,
     "metadata": {},
     "output_type": "execute_result"
    },
    {
     "data": {
      "image/png": "[encoded data removed]",
      "text/plain": [
       "<Figure size 432x288 with 1 Axes>"
      ]
     },
     "metadata": {
      "needs_background": "light"
     },
     "output_type": "display_data"
    }
   ],
   "source": [
    "plt.plot(param_history, cost_history)\n",
    "plt.title(\"w , b over cost\")\n",
    "plt.xlabel(\"\")\n",
    "plt.ylabel(\"\")"
   ]
  },
  {
   "cell_type": "markdown",
   "metadata": {},
   "source": [
    "# Cost change over Iteration"
   ]
  },
  {
   "cell_type": "code",
   "execution_count": 172,
   "metadata": {},
   "outputs": [
    {
     "data": {
      "image/png": "[encoded data removed]",
      "text/plain": [
       "<Figure size 1800x720 with 2 Axes>"
      ]
     },
     "metadata": {
      "needs_background": "light"
     },
     "output_type": "display_data"
    }
   ],
   "source": [
    "fig, (ax1, ax2) = plt.subplots(1, 2, constrained_layout=True, figsize=(25,10))\n",
    "ax1.plot(cost_history[:100])\n",
    "ax2.plot(1000 + np.arange(len(cost_history[1000:])), cost_history[1000:])\n",
    "ax1.set_title(\"Cost vs. iteration(start)\");  ax2.set_title(\"Cost vs. iteration (end)\")\n",
    "ax1.set_ylabel('Cost')            ;  ax2.set_ylabel('Cost') \n",
    "ax1.set_xlabel('iteration step')  ;  ax2.set_xlabel('iteration step') \n",
    "plt.show()"
   ]
  },
  {
   "cell_type": "code",
   "execution_count": 173,
   "metadata": {},
   "outputs": [
    {
     "name": "stdout",
     "output_type": "stream",
     "text": [
      " Final parameters\t W\t\t\t\t B\n",
      " Value\t\t\t 2.5 \t\t 21.8\n"
     ]
    }
   ],
   "source": [
    "print(\" Final parameters\\t W\\t\\t\\t\\t B\\n\",\"Value\\t\\t\\t\",w,\"\\t\\t\",b)"
   ]
  },
  {
   "cell_type": "markdown",
   "metadata": {},
   "source": [
    "# final plot\n",
    "    - based on best parameters"
   ]
  },
  {
   "cell_type": "code",
   "execution_count": 186,
   "metadata": {},
   "outputs": [
    {
     "data": {
      "image/png": "[encoded data removed]",
      "text/plain": [
       "<Figure size 432x288 with 1 Axes>"
      ]
     },
     "metadata": {
      "needs_background": "light"
     },
     "output_type": "display_data"
    }
   ],
   "source": [
    "y_hat_f = w_ * X + b_\n",
    "plt.plot(X, y_hat_f, c = 'r', label='Our Prediction')\n",
    "plt.scatter(X, Y, marker='+', c='b', label = 'Actual Values')\n",
    "plt.show()"
   ]
  },
  {
   "cell_type": "markdown",
   "metadata": {},
   "source": [
    "# prediction Accuracy"
   ]
  },
  {
   "cell_type": "code",
   "execution_count": 187,
   "metadata": {},
   "outputs": [],
   "source": [
    "def cal_accuracy(y,y_hat):\n",
    "    f_count = 0\n",
    "    t_count = 0\n",
    "    n = Y.shape[0]\n",
    "    for i in range(n):\n",
    "        if(y[i]==y_hat[i]):\n",
    "            t_count += 1\n",
    "        else:\n",
    "            f_count +=1\n",
    "    return (t_count/n) * 100"
   ]
  },
  {
   "cell_type": "code",
   "execution_count": 194,
   "metadata": {},
   "outputs": [
    {
     "name": "stdout",
     "output_type": "stream",
     "text": [
      "Accuracy = 0.0 %\n"
     ]
    }
   ],
   "source": [
    "accuracy = cal_accuracy(Y,y_hat_f)\n",
    "print(f\"Accuracy = {accuracy} %\")"
   ]
  }
 ],
 "metadata": {
  "kernelspec": {
   "display_name": "Python 3.7.13 ('venv1')",
   "language": "python",
   "name": "python3"
  },
  "language_info": {
   "codemirror_mode": {
    "name": "ipython",
    "version": 3
   },
   "file_extension": ".py",
   "mimetype": "text/x-python",
   "name": "python",
   "nbconvert_exporter": "python",
   "pygments_lexer": "ipython3",
   "version": "3.7.13"
  },
  "orig_nbformat": 4,
  "vscode": {
   "interpreter": {
    "hash": "7dd44b895647408b3556bbb6d2e497ee963cf27b91ecd8eeda7f7fe3d4b66ee1"
   }
  }
 },
 "nbformat": 4,
 "nbformat_minor": 2
}
