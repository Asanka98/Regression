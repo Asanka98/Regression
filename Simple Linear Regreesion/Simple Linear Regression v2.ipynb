{
 "cells": [
  {
   "cell_type": "markdown",
   "metadata": {},
   "source": [
    "## IBM AI Engineering Reference Code"
   ]
  },
  {
   "cell_type": "code",
   "execution_count": 91,
   "metadata": {},
   "outputs": [],
   "source": [
    "import matplotlib\n",
    "import numpy as np\n",
    "import matplotlib.pyplot as plt\n",
    "import math, copy\n",
    "import seaborn as sns\n",
    "import pandas as pd\n",
    "import sys"
   ]
  },
  {
   "cell_type": "code",
   "execution_count": 92,
   "metadata": {},
   "outputs": [
    {
     "data": {
      "text/plain": [
       "array([ 0,  1,  2,  3,  4,  5,  6,  7,  8,  9, 10])"
      ]
     },
     "execution_count": 92,
     "metadata": {},
     "output_type": "execute_result"
    }
   ],
   "source": [
    "X = np.array([0,1,2,3,4,5,6,7,8,9,10])\n",
    "X"
   ]
  },
  {
   "cell_type": "code",
   "execution_count": 93,
   "metadata": {},
   "outputs": [
    {
     "data": {
      "text/plain": [
       "array([22, 25, 27, 29, 32, 35, 37, 39, 42, 45, 46])"
      ]
     },
     "execution_count": 93,
     "metadata": {},
     "output_type": "execute_result"
    }
   ],
   "source": [
    "Y = np.array([22,25,27,29,32,35,37,39,42,45,46])\n",
    "Y"
   ]
  },
  {
   "cell_type": "code",
   "execution_count": 94,
   "metadata": {},
   "outputs": [
    {
     "data": {
      "text/plain": [
       "<matplotlib.collections.PathCollection at 0x15bbf594348>"
      ]
     },
     "execution_count": 94,
     "metadata": {},
     "output_type": "execute_result"
    },
    {
     "data": {
      "image/png": "[encoded data removed]",
      "text/plain": [
       "<Figure size 432x288 with 1 Axes>"
      ]
     },
     "metadata": {
      "needs_background": "light"
     },
     "output_type": "display_data"
    }
   ],
   "source": [
    "plt.scatter(X, Y, marker='+', c='g')"
   ]
  },
  {
   "cell_type": "markdown",
   "metadata": {},
   "source": [
    "## Linear Function \n",
    "\n",
    "$ y = m * x + c $\n",
    "\n",
    "$ m = \\sum\\limits_{i = 0}^{n} \\frac {(x^{(i)} - \\bar{x}) (y^{(i)} - \\bar{y}) } {(x^{(i)} - \\bar{x})^{2}}  $\n",
    "\n",
    "\n",
    "\n"
   ]
  },
  {
   "cell_type": "code",
   "execution_count": 130,
   "metadata": {},
   "outputs": [],
   "source": [
    "m = np.double(0.0000)\n",
    "\n",
    "d = np.double(0.0000)\n",
    "\n",
    "x_ = np.mean(X)\n",
    "\n",
    "y_ = np.mean(Y)\n",
    "\n",
    "l = len(X)\n",
    "\n",
    "print(\"mean of X : \" +str(x_) + \" | mean of Y : \" + str(y_) + \" | length of X \" + str(l))\n",
    "\n",
    "for i in range(l):\n",
    "\n",
    "    x_i = X[i]\n",
    "\n",
    "    y_i = Y[i]\n",
    "\n",
    "    m = m + ( x_i - x_ ) * ( y_i - y_ ) \n",
    "    \n",
    "    d = d + ( x_i - x_ ) ** 2 \n",
    "\n",
    "m = m / d\n",
    "\n",
    "c = Y[1] - m * X[1]\n",
    "\n"
   ]
  },
  {
   "cell_type": "code",
   "execution_count": 131,
   "metadata": {},
   "outputs": [
    {
     "name": "stdout",
     "output_type": "stream",
     "text": [
      "22.545454545454547\n",
      "2.454545454545455\n"
     ]
    }
   ],
   "source": [
    "print(c)\n",
    "print(m)"
   ]
  },
  {
   "cell_type": "code",
   "execution_count": 132,
   "metadata": {},
   "outputs": [
    {
     "data": {
      "image/png": "[encoded data removed]",
      "text/plain": [
       "<Figure size 432x288 with 1 Axes>"
      ]
     },
     "metadata": {
      "needs_background": "light"
     },
     "output_type": "display_data"
    }
   ],
   "source": [
    "w = m\n",
    "b = c\n",
    "y_hat = w * X + b\n",
    "plt.plot(X, y_hat, c = 'r', label='Our Prediction')\n",
    "plt.scatter(X, Y, marker='+', c='b', label = 'Actual Values')\n",
    "plt.show()"
   ]
  }
 ],
 "metadata": {
  "kernelspec": {
   "display_name": "Python 3.7.13 ('venv1')",
   "language": "python",
   "name": "python3"
  },
  "language_info": {
   "codemirror_mode": {
    "name": "ipython",
    "version": 3
   },
   "file_extension": ".py",
   "mimetype": "text/x-python",
   "name": "python",
   "nbconvert_exporter": "python",
   "pygments_lexer": "ipython3",
   "version": "3.7.13"
  },
  "orig_nbformat": 4,
  "vscode": {
   "interpreter": {
    "hash": "7dd44b895647408b3556bbb6d2e497ee963cf27b91ecd8eeda7f7fe3d4b66ee1"
   }
  }
 },
 "nbformat": 4,
 "nbformat_minor": 2
}
